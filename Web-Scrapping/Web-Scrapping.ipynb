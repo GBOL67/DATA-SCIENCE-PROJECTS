{
 "cells": [
  {
   "cell_type": "markdown",
   "id": "c98e8903-4f02-4b04-93cc-34d617211aa7",
   "metadata": {},
   "source": [
    "# <strong> WEBSCRAPPING </strong>"
   ]
  },
  {
   "cell_type": "markdown",
   "id": "6ba82825-9a89-4a88-847a-69e65419e14b",
   "metadata": {},
   "source": [
    "WORKFLOW:\n",
    "1. Get Resource file (eg. html doc., images etc) (REQUEST LIBRARY)\n",
    "2. Extract data from file. (Beautiful Soup Library)\n",
    "3. Structure data to a format . (tuple, list, dictionary)\n",
    "4. Analyze data (Panda, Numpy etc)\n",
    "5. Save structured data into a file format (Json, CSV etc)"
   ]
  },
  {
   "cell_type": "markdown",
   "id": "7d5537a7-fce0-4e3d-b19e-8748f50ba143",
   "metadata": {},
   "source": [
    "## <strong> REQUEST </strong>"
   ]
  },
  {
   "cell_type": "markdown",
   "id": "2764d6e2-084c-4f7d-b1a6-af5d563156bb",
   "metadata": {},
   "source": [
    "Get method is used to retrieve infromation from the specific URL."
   ]
  },
  {
   "cell_type": "markdown",
   "id": "cfcdea25-d097-4c5f-b705-e939a5151009",
   "metadata": {},
   "source": [
    "The url contains Premier-League football stats."
   ]
  },
  {
   "cell_type": "code",
   "execution_count": 1,
   "id": "73b2701b-12e7-46e4-a79f-65d25647a23a",
   "metadata": {},
   "outputs": [],
   "source": [
    "import requests\n",
    "from bs4 import BeautifulSoup\n",
    "url = 'https://fbref.com/en/comps/9/Premier-League-Stats'\n",
    "r = requests.get(url) "
   ]
  },
  {
   "cell_type": "markdown",
   "id": "971105f0-b03d-4390-a7f3-1c9e5f391dd3",
   "metadata": {},
   "source": [
    "### ATTRIBUTES"
   ]
  },
  {
   "cell_type": "code",
   "execution_count": 2,
   "id": "92c08843-7880-44d2-94a0-37434bd99dc5",
   "metadata": {},
   "outputs": [
    {
     "name": "stdout",
     "output_type": "stream",
     "text": [
      "200\n"
     ]
    }
   ],
   "source": [
    "print(r.status_code) #reponse status code. "
   ]
  },
  {
   "cell_type": "code",
   "execution_count": 3,
   "id": "60c39ead-ad31-4926-9a10-bfd673b89fb9",
   "metadata": {},
   "outputs": [
    {
     "name": "stdout",
     "output_type": "stream",
     "text": [
      "{'Date': 'Mon, 01 Apr 2024 17:35:01 GMT', 'Content-Type': 'text/html; charset=UTF-8', 'Transfer-Encoding': 'chunked', 'Connection': 'keep-alive', 'sr-hit-memd-key': '/en/comps/9/Premier-League-Stats', 'x-frame-options': 'SAMEORIGIN', 'strict-transport-security': 'max-age=2592000; includeSubDomains', 'vary': 'Accept-Encoding', 'x-content-type-options': 'nosniff', 'referrer-policy': 'no-referrer-when-downgrade', 'Last-Modified': 'Mon, 01 Apr 2024 16:58:33 GMT', 'CF-Cache-Status': 'HIT', 'Age': '1287', 'Expires': 'Mon, 01 Apr 2024 21:35:01 GMT', 'Cache-Control': 'public, max-age=14400', 'Set-Cookie': '__cf_bm=p91ikuN1gOVNNhagKUihnWE3DQbVg39Ql9mde.DnCPg-1711992901-1.0.1.1-vW1dDT3.tbRawNe.S1MINrPz3F6UlqHAh6exwFzRuTxvjpshGh3XvXJcDfC7HvVmFMrfbQKLrhpRcM595w.0fw; path=/; expires=Mon, 01-Apr-24 18:05:01 GMT; domain=.fbref.com; HttpOnly; Secure; SameSite=None', 'Server': 'cloudflare', 'CF-RAY': '86da55514d20a992-LCA', 'Content-Encoding': 'gzip'}\n"
     ]
    }
   ],
   "source": [
    "print(r.headers) #Dictionary containing the the HTTP headers of the response"
   ]
  },
  {
   "cell_type": "code",
   "execution_count": 4,
   "id": "8de5402b-b7e6-4e11-85da-a44d0f909168",
   "metadata": {},
   "outputs": [],
   "source": [
    "text= r.text #The content of the response in plain text format"
   ]
  },
  {
   "cell_type": "code",
   "execution_count": 5,
   "id": "492ff1d6-0de3-4bcb-9104-c943acf17ec0",
   "metadata": {},
   "outputs": [],
   "source": [
    "content=r.content # The content of the reponse in bytes"
   ]
  },
  {
   "cell_type": "markdown",
   "id": "d9055911-a10f-4422-83a4-6f9750d77006",
   "metadata": {},
   "source": [
    "### <strong>BEAUTIFUL SOUP</strong>"
   ]
  },
  {
   "cell_type": "code",
   "execution_count": 6,
   "id": "fef4be43-e7d2-46bf-9f92-d456ed8b9a2b",
   "metadata": {},
   "outputs": [],
   "source": [
    "soup = BeautifulSoup(r.text,'html.parser')"
   ]
  },
  {
   "cell_type": "markdown",
   "id": "b82cbd3e-8941-41e3-9290-c4e8f3c9f368",
   "metadata": {},
   "source": [
    "### METHODS"
   ]
  },
  {
   "cell_type": "markdown",
   "id": "a9c17232-b656-42ba-81eb-bb8d008ad7e3",
   "metadata": {},
   "source": [
    "Accessing the Premier League Table."
   ]
  },
  {
   "cell_type": "code",
   "execution_count": 7,
   "id": "16c886e0-a8a3-4ad1-987c-172439fdf3f7",
   "metadata": {},
   "outputs": [],
   "source": [
    "tbody =soup.find('tbody') #body of the table contains of a the rows in the table\n",
    "trow =soup.find_all('tr') #contains a list of all the row in the table  \n",
    "tr = soup.find_all('tbody')[0].find_all('tr')[0]  #Accessing the first tbody tag and then the first tr tag. (the first row of the premier league table)\n"
   ]
  },
  {
   "cell_type": "code",
   "execution_count": 8,
   "id": "50bc09c3-dbde-450f-aa06-4a4e254a1194",
   "metadata": {},
   "outputs": [
    {
     "name": "stdout",
     "output_type": "stream",
     "text": [
      "{'Rk': [], 'Squad': [], 'MP': [], 'W': [], 'D': [], 'L': [], 'GF': [], 'GA': [], 'GD': [], 'Pts': [], 'Pts/MP': [], 'xG': [], 'xGA': [], 'xGD': [], 'xGD/90': [], 'Last 5': [], 'Attendance': [], 'Top Team Scorer': [], 'Goalkeeper': [], 'Notes': []}\n"
     ]
    }
   ],
   "source": [
    "t_head = soup.find('body').find_all('thead')[0].find_all('tr')[0].find_all('th') #accessing the head of the table\n",
    "head_list=[]\n",
    "for i in range(len(t_head)):\n",
    " head_list.append(t_head[i].text)\n",
    "    \n",
    "dictionary = {key: [] for key in head_list}\n",
    "print(dictionary)"
   ]
  },
  {
   "cell_type": "code",
   "execution_count": 9,
   "id": "3229129b-5bcf-4885-8c6d-40dd83b9ca96",
   "metadata": {},
   "outputs": [
    {
     "name": "stdout",
     "output_type": "stream",
     "text": [
      "[' Arsenal', '29', '20', '5', '4', '70', '24', '+46', '65', '2.24', '57.3', '20.4', '+36.8', '+1.27', 'W W W W D', '60,213', 'Bukayo Saka - 13', 'David Raya', '']\n"
     ]
    }
   ],
   "source": [
    "trow_data = soup.find_all('tbody')[0].find_all('tr')[1].find_all('td') #accessing the body of the table\n",
    "row_list=[]\n",
    "for rows in range(len(trow_data)):#itreating through the rows\n",
    "  row_list.append(trow_data[rows].text)\n",
    "print(row_list)"
   ]
  },
  {
   "cell_type": "code",
   "execution_count": 10,
   "id": "13d43aca-f94f-43e4-9b81-05403f1e9a35",
   "metadata": {},
   "outputs": [
    {
     "name": "stdout",
     "output_type": "stream",
     "text": [
      " Liverpool\n"
     ]
    }
   ],
   "source": [
    "row_data = soup.find_all('tbody')[0].find_all('tr')[0].find_all('td')[0]\n",
    "print(row_data.text)"
   ]
  },
  {
   "cell_type": "code",
   "execution_count": 11,
   "id": "b27b10c9-fbfd-40f4-96b3-51ccb3857206",
   "metadata": {},
   "outputs": [
    {
     "name": "stdout",
     "output_type": "stream",
     "text": [
      "{'Squad': [' Liverpool', ' Arsenal', ' Manchester City', ' Aston Villa', ' Tottenham', ' Manchester Utd', ' West Ham', ' Newcastle Utd', ' Brighton', ' Wolves', ' Chelsea', ' Fulham', ' Bournemouth', ' Crystal Palace', ' Brentford', ' Everton', \" Nott'ham Forest\", ' Luton Town', ' Burnley', ' Sheffield Utd'], 'MP': ['29', '29', '29', '30', '29', '29', '30', '29', '29', '29', '28', '30', '29', '29', '30', '29', '30', '30', '30', '29'], 'W': ['20', '20', '19', '18', '17', '15', '12', '13', '11', '12', '11', '11', '10', '7', '7', '8', '6', '5', '4', '3'], 'D': ['7', '5', '7', '5', '5', '3', '8', '4', '9', '5', '7', '6', '8', '9', '6', '7', '8', '7', '6', '6'], 'L': ['2', '4', '3', '7', '7', '11', '10', '12', '9', '12', '10', '13', '11', '13', '17', '14', '16', '18', '20', '20'], 'GF': ['67', '70', '63', '62', '61', '40', '49', '63', '51', '42', '49', '46', '43', '34', '42', '30', '36', '43', '31', '27'], 'GA': ['27', '24', '28', '42', '43', '40', '54', '51', '46', '46', '47', '47', '53', '49', '55', '41', '52', '62', '65', '77'], 'GD': ['+40', '+46', '+35', '+20', '+18', '0', '-5', '+12', '+5', '-4', '+2', '-1', '-10', '-15', '-13', '-11', '-16', '-19', '-34', '-50'], 'Pts': ['67', '65', '64', '59', '56', '48', '44', '43', '42', '41', '40', '39', '38', '30', '27', '25', '22', '22', '18', '15'], 'Pts/MP': ['2.31', '2.24', '2.21', '1.97', '1.93', '1.66', '1.47', '1.48', '1.45', '1.41', '1.43', '1.30', '1.31', '1.03', '0.90', '0.86', '0.73', '0.73', '0.60', '0.52'], 'xG': ['65.3', '57.3', '57.6', '52.7', '52.3', '43.8', '42.4', '55.2', '45.9', '39.1', '54.3', '40.5', '43.9', '34.3', '48.3', '43.4', '37.4', '35.8', '30.0', '27.0'], 'xGA': ['34.9', '20.4', '28.2', '43.3', '47.0', '50.7', '55.0', '50.6', '41.5', '48.9', '41.9', '51.7', '45.9', '40.8', '45.8', '41.1', '43.1', '62.6', '54.7', '58.4'], 'xGD': ['+30.4', '+36.8', '+29.4', '+9.3', '+5.3', '-6.8', '-12.6', '+4.6', '+4.5', '-9.8', '+12.4', '-11.2', '-2.0', '-6.6', '+2.5', '+2.3', '-5.6', '-26.8', '-24.7', '-31.3'], 'xGD/90': ['+1.05', '+1.27', '+1.01', '+0.31', '+0.18', '-0.24', '-0.42', '+0.16', '+0.15', '-0.34', '+0.44', '-0.37', '-0.07', '-0.23', '+0.08', '+0.08', '-0.19', '-0.89', '-0.82', '-1.08'], 'Last 5': ['W W W D W', 'W W W W D', 'W W W D D', 'W W L D W', 'L W W L W', 'W L L W D', 'W W D D L', 'D L W L W', 'W D L W L', 'W W L W L', 'W D D W D', 'W W L W D', 'L W D W W', 'D W L D D', 'L D L L D', 'D D L L L', 'L L L D D', 'L D L D L', 'L L D W D', 'L L L D D'], 'Attendance': ['54,888', '60,213', '49,463', '38,918', '61,553', '73,523', '62,594', '52,126', '33,003', '31,280', '39,554', '24,290', '11,089', '24,861', '17,081', '39,063', '29,356', '11,065', '21,159', '30,332'], 'Top Team Scorer': ['Mohamed Salah - 16', 'Bukayo Saka - 13', 'Erling Haaland - 18', 'Ollie Watkins - 16', 'Son Heung-min - 15', 'Marcus Rashford, Scott McTominay... - 7', 'Jarrod Bowen - 15', 'Alexander Isak - 14', 'João Pedro - 8', 'Hwang Hee-chan - 10', 'Cole Palmer - 13', 'Rodrigo Muniz - 8', 'Dominic Solanke - 16', 'Odsonne Édouard, Jean-Philippe Mateta... - 6', 'Yoane Wissa, Bryan Mbeumo - 7', 'Abdoulaye Doucouré - 6', 'Chris Wood - 10', 'Elijah Adebayo - 9', 'Lyle Foster, Zeki Amdouni... - 4', 'Oliver McBurnie - 5'], 'Goalkeeper': ['Alisson', 'David Raya', 'Ederson', 'Emiliano Martínez', 'Guglielmo Vicario', 'André Onana', 'Alphonse Areola', 'Martin Dúbravka', 'Jason Steele', 'José Sá', 'Robert Sánchez', 'Bernd Leno', 'Neto', 'Sam Johnstone', 'Mark Flekken', 'Jordan Pickford', 'Matt Turner', 'Thomas Kaminski', 'James Trafford', 'Wes Foderingham'], 'Notes': ['', '', '', '', '', '', '', '', '', '', '', '', '', '', '', '6-point deduction 1', '4-point deduction 2', '', '', '']}\n"
     ]
    }
   ],
   "source": [
    "for columns in range(len(soup.find_all('tbody')[0].find_all('tr'))):#list of rows\n",
    "    trow_data = soup.find_all('tbody')[0].find_all('tr')[columns].find_all('td') #columns\n",
    "    row_list=[]\n",
    "    for column in range(len(trow_data)):\n",
    "      row_list.append(trow_data[column].text)\n",
    "    for b in range(19):#columns\n",
    "     dictionary[head_list[b+1]].append(row_list[b])\n",
    "del dictionary['Rk']\n",
    "print(dictionary)\n",
    "     \n",
    "        "
   ]
  },
  {
   "cell_type": "code",
   "execution_count": 12,
   "id": "dda2b46c-2f5b-4ac1-9248-a198d1516f2d",
   "metadata": {},
   "outputs": [],
   "source": [
    "import pandas as pd\n",
    "\n",
    "# Creating a DataFrame from the dictionary\n",
    "df = pd.DataFrame(dictionary)"
   ]
  },
  {
   "cell_type": "code",
   "execution_count": 13,
   "id": "6c077489-9d07-476f-86d3-d2bbfeac5ab2",
   "metadata": {
    "scrolled": true
   },
   "outputs": [
    {
     "data": {
      "text/html": [
       "<div>\n",
       "<style scoped>\n",
       "    .dataframe tbody tr th:only-of-type {\n",
       "        vertical-align: middle;\n",
       "    }\n",
       "\n",
       "    .dataframe tbody tr th {\n",
       "        vertical-align: top;\n",
       "    }\n",
       "\n",
       "    .dataframe thead th {\n",
       "        text-align: right;\n",
       "    }\n",
       "</style>\n",
       "<table border=\"1\" class=\"dataframe\">\n",
       "  <thead>\n",
       "    <tr style=\"text-align: right;\">\n",
       "      <th></th>\n",
       "      <th>Squad</th>\n",
       "      <th>MP</th>\n",
       "      <th>W</th>\n",
       "      <th>D</th>\n",
       "      <th>L</th>\n",
       "      <th>GF</th>\n",
       "      <th>GA</th>\n",
       "      <th>GD</th>\n",
       "      <th>Pts</th>\n",
       "      <th>Pts/MP</th>\n",
       "      <th>xG</th>\n",
       "      <th>xGA</th>\n",
       "      <th>xGD</th>\n",
       "      <th>xGD/90</th>\n",
       "      <th>Last 5</th>\n",
       "      <th>Attendance</th>\n",
       "      <th>Top Team Scorer</th>\n",
       "      <th>Goalkeeper</th>\n",
       "      <th>Notes</th>\n",
       "    </tr>\n",
       "  </thead>\n",
       "  <tbody>\n",
       "    <tr>\n",
       "      <th>0</th>\n",
       "      <td>Liverpool</td>\n",
       "      <td>29</td>\n",
       "      <td>20</td>\n",
       "      <td>7</td>\n",
       "      <td>2</td>\n",
       "      <td>67</td>\n",
       "      <td>27</td>\n",
       "      <td>+40</td>\n",
       "      <td>67</td>\n",
       "      <td>2.31</td>\n",
       "      <td>65.3</td>\n",
       "      <td>34.9</td>\n",
       "      <td>+30.4</td>\n",
       "      <td>+1.05</td>\n",
       "      <td>W W W D W</td>\n",
       "      <td>54,888</td>\n",
       "      <td>Mohamed Salah - 16</td>\n",
       "      <td>Alisson</td>\n",
       "      <td></td>\n",
       "    </tr>\n",
       "    <tr>\n",
       "      <th>1</th>\n",
       "      <td>Arsenal</td>\n",
       "      <td>29</td>\n",
       "      <td>20</td>\n",
       "      <td>5</td>\n",
       "      <td>4</td>\n",
       "      <td>70</td>\n",
       "      <td>24</td>\n",
       "      <td>+46</td>\n",
       "      <td>65</td>\n",
       "      <td>2.24</td>\n",
       "      <td>57.3</td>\n",
       "      <td>20.4</td>\n",
       "      <td>+36.8</td>\n",
       "      <td>+1.27</td>\n",
       "      <td>W W W W D</td>\n",
       "      <td>60,213</td>\n",
       "      <td>Bukayo Saka - 13</td>\n",
       "      <td>David Raya</td>\n",
       "      <td></td>\n",
       "    </tr>\n",
       "    <tr>\n",
       "      <th>2</th>\n",
       "      <td>Manchester City</td>\n",
       "      <td>29</td>\n",
       "      <td>19</td>\n",
       "      <td>7</td>\n",
       "      <td>3</td>\n",
       "      <td>63</td>\n",
       "      <td>28</td>\n",
       "      <td>+35</td>\n",
       "      <td>64</td>\n",
       "      <td>2.21</td>\n",
       "      <td>57.6</td>\n",
       "      <td>28.2</td>\n",
       "      <td>+29.4</td>\n",
       "      <td>+1.01</td>\n",
       "      <td>W W W D D</td>\n",
       "      <td>49,463</td>\n",
       "      <td>Erling Haaland - 18</td>\n",
       "      <td>Ederson</td>\n",
       "      <td></td>\n",
       "    </tr>\n",
       "    <tr>\n",
       "      <th>3</th>\n",
       "      <td>Aston Villa</td>\n",
       "      <td>30</td>\n",
       "      <td>18</td>\n",
       "      <td>5</td>\n",
       "      <td>7</td>\n",
       "      <td>62</td>\n",
       "      <td>42</td>\n",
       "      <td>+20</td>\n",
       "      <td>59</td>\n",
       "      <td>1.97</td>\n",
       "      <td>52.7</td>\n",
       "      <td>43.3</td>\n",
       "      <td>+9.3</td>\n",
       "      <td>+0.31</td>\n",
       "      <td>W W L D W</td>\n",
       "      <td>38,918</td>\n",
       "      <td>Ollie Watkins - 16</td>\n",
       "      <td>Emiliano Martínez</td>\n",
       "      <td></td>\n",
       "    </tr>\n",
       "    <tr>\n",
       "      <th>4</th>\n",
       "      <td>Tottenham</td>\n",
       "      <td>29</td>\n",
       "      <td>17</td>\n",
       "      <td>5</td>\n",
       "      <td>7</td>\n",
       "      <td>61</td>\n",
       "      <td>43</td>\n",
       "      <td>+18</td>\n",
       "      <td>56</td>\n",
       "      <td>1.93</td>\n",
       "      <td>52.3</td>\n",
       "      <td>47.0</td>\n",
       "      <td>+5.3</td>\n",
       "      <td>+0.18</td>\n",
       "      <td>L W W L W</td>\n",
       "      <td>61,553</td>\n",
       "      <td>Son Heung-min - 15</td>\n",
       "      <td>Guglielmo Vicario</td>\n",
       "      <td></td>\n",
       "    </tr>\n",
       "  </tbody>\n",
       "</table>\n",
       "</div>"
      ],
      "text/plain": [
       "              Squad  MP   W  D  L  GF  GA   GD Pts Pts/MP    xG   xGA    xGD  \\\n",
       "0         Liverpool  29  20  7  2  67  27  +40  67   2.31  65.3  34.9  +30.4   \n",
       "1           Arsenal  29  20  5  4  70  24  +46  65   2.24  57.3  20.4  +36.8   \n",
       "2   Manchester City  29  19  7  3  63  28  +35  64   2.21  57.6  28.2  +29.4   \n",
       "3       Aston Villa  30  18  5  7  62  42  +20  59   1.97  52.7  43.3   +9.3   \n",
       "4         Tottenham  29  17  5  7  61  43  +18  56   1.93  52.3  47.0   +5.3   \n",
       "\n",
       "  xGD/90     Last 5 Attendance      Top Team Scorer         Goalkeeper Notes  \n",
       "0  +1.05  W W W D W     54,888   Mohamed Salah - 16            Alisson        \n",
       "1  +1.27  W W W W D     60,213     Bukayo Saka - 13         David Raya        \n",
       "2  +1.01  W W W D D     49,463  Erling Haaland - 18            Ederson        \n",
       "3  +0.31  W W L D W     38,918   Ollie Watkins - 16  Emiliano Martínez        \n",
       "4  +0.18  L W W L W     61,553   Son Heung-min - 15  Guglielmo Vicario        "
      ]
     },
     "execution_count": 13,
     "metadata": {},
     "output_type": "execute_result"
    }
   ],
   "source": [
    "df.head()"
   ]
  },
  {
   "cell_type": "code",
   "execution_count": 14,
   "id": "38f62855-dd37-407c-8ba8-26cb0ac0a165",
   "metadata": {},
   "outputs": [
    {
     "name": "stdout",
     "output_type": "stream",
     "text": [
      "[' Liverpool' '29' '20' '7' '2' '67' '27' '+40' '67' '2.31' '65.3' '34.9'\n",
      " '+30.4' '+1.05' 'W W W D W' '54,888' 'Mohamed Salah - 16' 'Alisson' '']\n"
     ]
    }
   ],
   "source": [
    "print(df.values[0])"
   ]
  },
  {
   "cell_type": "code",
   "execution_count": 15,
   "id": "4bda5e32-23e3-4fe0-a748-309c7c768876",
   "metadata": {},
   "outputs": [
    {
     "name": "stdout",
     "output_type": "stream",
     "text": [
      "0                               Mohamed Salah - 16\n",
      "1                                 Bukayo Saka - 13\n",
      "2                              Erling Haaland - 18\n",
      "3                               Ollie Watkins - 16\n",
      "4                               Son Heung-min - 15\n",
      "5          Marcus Rashford, Scott McTominay... - 7\n",
      "6                                Jarrod Bowen - 15\n",
      "7                              Alexander Isak - 14\n",
      "8                                   João Pedro - 8\n",
      "9                              Hwang Hee-chan - 10\n",
      "10                                Cole Palmer - 13\n",
      "11                               Rodrigo Muniz - 8\n",
      "12                            Dominic Solanke - 16\n",
      "13    Odsonne Édouard, Jean-Philippe Mateta... - 6\n",
      "14                   Yoane Wissa, Bryan Mbeumo - 7\n",
      "15                          Abdoulaye Doucouré - 6\n",
      "16                                 Chris Wood - 10\n",
      "17                              Elijah Adebayo - 9\n",
      "18                Lyle Foster, Zeki Amdouni... - 4\n",
      "19                             Oliver McBurnie - 5\n",
      "Name: Top Team Scorer, dtype: object\n"
     ]
    }
   ],
   "source": [
    "print(df['Top Team Scorer'])"
   ]
  },
  {
   "cell_type": "code",
   "execution_count": 16,
   "id": "8ebc7bd4-dbfb-48f6-8c46-66fc4edac85c",
   "metadata": {},
   "outputs": [
    {
     "name": "stdout",
     "output_type": "stream",
     "text": [
      "             Squad  MP   W  D   L  GF  GA   GD Pts Pts/MP    xG   xGA    xGD  \\\n",
      "5   Manchester Utd  29  15  3  11  40  40    0  48   1.66  43.8  50.7   -6.8   \n",
      "7    Newcastle Utd  29  13  4  12  63  51  +12  43   1.48  55.2  50.6   +4.6   \n",
      "9           Wolves  29  12  5  12  42  46   -4  41   1.41  39.1  48.9   -9.8   \n",
      "1          Arsenal  29  20  5   4  70  24  +46  65   2.24  57.3  20.4  +36.8   \n",
      "3      Aston Villa  30  18  5   7  62  42  +20  59   1.97  52.7  43.3   +9.3   \n",
      "\n",
      "  xGD/90     Last 5 Attendance                          Top Team Scorer  \\\n",
      "5  -0.24  W L L W D     73,523  Marcus Rashford, Scott McTominay... - 7   \n",
      "7  +0.16  D L W L W     52,126                      Alexander Isak - 14   \n",
      "9  -0.34  W W L W L     31,280                      Hwang Hee-chan - 10   \n",
      "1  +1.27  W W W W D     60,213                         Bukayo Saka - 13   \n",
      "3  +0.31  W W L D W     38,918                       Ollie Watkins - 16   \n",
      "\n",
      "          Goalkeeper Notes  \n",
      "5        André Onana        \n",
      "7    Martin Dúbravka        \n",
      "9            José Sá        \n",
      "1         David Raya        \n",
      "3  Emiliano Martínez        \n"
     ]
    }
   ],
   "source": [
    "print(df.sort_values('D').head())"
   ]
  },
  {
   "cell_type": "markdown",
   "id": "696a636a-27bf-4cc3-9605-ceeb88dad93f",
   "metadata": {},
   "source": [
    "# JSON LIBRARY"
   ]
  },
  {
   "cell_type": "markdown",
   "id": "ab7ce53f-a06a-4719-9d22-6a7beb1842b4",
   "metadata": {},
   "source": [
    "Two structures:\n",
    "1. A collection of name/value pairs. Seen as an object, struct, dictionary.\n",
    "2. An ordered list of values. Eg. array, vector, list or sequence."
   ]
  },
  {
   "cell_type": "markdown",
   "id": "56b0cb85-a9b6-4d38-aa26-ea030d1d07cf",
   "metadata": {},
   "source": [
    "## METHOD"
   ]
  },
  {
   "cell_type": "code",
   "execution_count": 17,
   "id": "d84ee8e4-be4c-4936-9239-fbb0615eb6ed",
   "metadata": {},
   "outputs": [],
   "source": [
    "import json\n",
    "# json dump(): used for writing a dictionary to a json file.\n",
    "with open('dic_table.json','w') as table:\n",
    "     json.dump(dictionary,table,indent=4)"
   ]
  },
  {
   "cell_type": "code",
   "execution_count": 18,
   "id": "8c9d8043-a039-47a2-850a-b7eb3c5b7d30",
   "metadata": {},
   "outputs": [
    {
     "name": "stdout",
     "output_type": "stream",
     "text": [
      "[{\"Squad\":\" Liverpool\",\"MP\":\"29\",\"W\":\"20\",\"D\":\"7\",\"L\":\"2\",\"GF\":\"67\",\"GA\":\"27\",\"GD\":\"+40\",\"Pts\":\"67\",\"Pts\\/MP\":\"2.31\",\"xG\":\"65.3\",\"xGA\":\"34.9\",\"xGD\":\"+30.4\",\"xGD\\/90\":\"+1.05\",\"Last 5\":\"W W W D W\",\"Attendance\":\"54,888\",\"Top Team Scorer\":\"Mohamed Salah - 16\",\"Goalkeeper\":\"Alisson\",\"Notes\":\"\"},{\"Squad\":\" Arsenal\",\"MP\":\"29\",\"W\":\"20\",\"D\":\"5\",\"L\":\"4\",\"GF\":\"70\",\"GA\":\"24\",\"GD\":\"+46\",\"Pts\":\"65\",\"Pts\\/MP\":\"2.24\",\"xG\":\"57.3\",\"xGA\":\"20.4\",\"xGD\":\"+36.8\",\"xGD\\/90\":\"+1.27\",\"Last 5\":\"W W W W D\",\"Attendance\":\"60,213\",\"Top Team Scorer\":\"Bukayo Saka - 13\",\"Goalkeeper\":\"David Raya\",\"Notes\":\"\"},{\"Squad\":\" Manchester City\",\"MP\":\"29\",\"W\":\"19\",\"D\":\"7\",\"L\":\"3\",\"GF\":\"63\",\"GA\":\"28\",\"GD\":\"+35\",\"Pts\":\"64\",\"Pts\\/MP\":\"2.21\",\"xG\":\"57.6\",\"xGA\":\"28.2\",\"xGD\":\"+29.4\",\"xGD\\/90\":\"+1.01\",\"Last 5\":\"W W W D D\",\"Attendance\":\"49,463\",\"Top Team Scorer\":\"Erling Haaland - 18\",\"Goalkeeper\":\"Ederson\",\"Notes\":\"\"},{\"Squad\":\" Aston Villa\",\"MP\":\"30\",\"W\":\"18\",\"D\":\"5\",\"L\":\"7\",\"GF\":\"62\",\"GA\":\"42\",\"GD\":\"+20\",\"Pts\":\"59\",\"Pts\\/MP\":\"1.97\",\"xG\":\"52.7\",\"xGA\":\"43.3\",\"xGD\":\"+9.3\",\"xGD\\/90\":\"+0.31\",\"Last 5\":\"W W L D W\",\"Attendance\":\"38,918\",\"Top Team Scorer\":\"Ollie Watkins - 16\",\"Goalkeeper\":\"Emiliano Mart\\u00ednez\",\"Notes\":\"\"},{\"Squad\":\" Tottenham\",\"MP\":\"29\",\"W\":\"17\",\"D\":\"5\",\"L\":\"7\",\"GF\":\"61\",\"GA\":\"43\",\"GD\":\"+18\",\"Pts\":\"56\",\"Pts\\/MP\":\"1.93\",\"xG\":\"52.3\",\"xGA\":\"47.0\",\"xGD\":\"+5.3\",\"xGD\\/90\":\"+0.18\",\"Last 5\":\"L W W L W\",\"Attendance\":\"61,553\",\"Top Team Scorer\":\"Son Heung-min - 15\",\"Goalkeeper\":\"Guglielmo Vicario\",\"Notes\":\"\"},{\"Squad\":\" Manchester Utd\",\"MP\":\"29\",\"W\":\"15\",\"D\":\"3\",\"L\":\"11\",\"GF\":\"40\",\"GA\":\"40\",\"GD\":\"0\",\"Pts\":\"48\",\"Pts\\/MP\":\"1.66\",\"xG\":\"43.8\",\"xGA\":\"50.7\",\"xGD\":\"-6.8\",\"xGD\\/90\":\"-0.24\",\"Last 5\":\"W L L W D\",\"Attendance\":\"73,523\",\"Top Team Scorer\":\"Marcus Rashford, Scott McTominay... - 7\",\"Goalkeeper\":\"Andr\\u00e9 Onana\",\"Notes\":\"\"},{\"Squad\":\" West Ham\",\"MP\":\"30\",\"W\":\"12\",\"D\":\"8\",\"L\":\"10\",\"GF\":\"49\",\"GA\":\"54\",\"GD\":\"-5\",\"Pts\":\"44\",\"Pts\\/MP\":\"1.47\",\"xG\":\"42.4\",\"xGA\":\"55.0\",\"xGD\":\"-12.6\",\"xGD\\/90\":\"-0.42\",\"Last 5\":\"W W D D L\",\"Attendance\":\"62,594\",\"Top Team Scorer\":\"Jarrod Bowen - 15\",\"Goalkeeper\":\"Alphonse Areola\",\"Notes\":\"\"},{\"Squad\":\" Newcastle Utd\",\"MP\":\"29\",\"W\":\"13\",\"D\":\"4\",\"L\":\"12\",\"GF\":\"63\",\"GA\":\"51\",\"GD\":\"+12\",\"Pts\":\"43\",\"Pts\\/MP\":\"1.48\",\"xG\":\"55.2\",\"xGA\":\"50.6\",\"xGD\":\"+4.6\",\"xGD\\/90\":\"+0.16\",\"Last 5\":\"D L W L W\",\"Attendance\":\"52,126\",\"Top Team Scorer\":\"Alexander Isak - 14\",\"Goalkeeper\":\"Martin D\\u00fabravka\",\"Notes\":\"\"},{\"Squad\":\" Brighton\",\"MP\":\"29\",\"W\":\"11\",\"D\":\"9\",\"L\":\"9\",\"GF\":\"51\",\"GA\":\"46\",\"GD\":\"+5\",\"Pts\":\"42\",\"Pts\\/MP\":\"1.45\",\"xG\":\"45.9\",\"xGA\":\"41.5\",\"xGD\":\"+4.5\",\"xGD\\/90\":\"+0.15\",\"Last 5\":\"W D L W L\",\"Attendance\":\"33,003\",\"Top Team Scorer\":\"Jo\\u00e3o Pedro - 8\",\"Goalkeeper\":\"Jason Steele\",\"Notes\":\"\"},{\"Squad\":\" Wolves\",\"MP\":\"29\",\"W\":\"12\",\"D\":\"5\",\"L\":\"12\",\"GF\":\"42\",\"GA\":\"46\",\"GD\":\"-4\",\"Pts\":\"41\",\"Pts\\/MP\":\"1.41\",\"xG\":\"39.1\",\"xGA\":\"48.9\",\"xGD\":\"-9.8\",\"xGD\\/90\":\"-0.34\",\"Last 5\":\"W W L W L\",\"Attendance\":\"31,280\",\"Top Team Scorer\":\"Hwang Hee-chan - 10\",\"Goalkeeper\":\"Jos\\u00e9 S\\u00e1\",\"Notes\":\"\"},{\"Squad\":\" Chelsea\",\"MP\":\"28\",\"W\":\"11\",\"D\":\"7\",\"L\":\"10\",\"GF\":\"49\",\"GA\":\"47\",\"GD\":\"+2\",\"Pts\":\"40\",\"Pts\\/MP\":\"1.43\",\"xG\":\"54.3\",\"xGA\":\"41.9\",\"xGD\":\"+12.4\",\"xGD\\/90\":\"+0.44\",\"Last 5\":\"W D D W D\",\"Attendance\":\"39,554\",\"Top Team Scorer\":\"Cole Palmer - 13\",\"Goalkeeper\":\"Robert S\\u00e1nchez\",\"Notes\":\"\"},{\"Squad\":\" Fulham\",\"MP\":\"30\",\"W\":\"11\",\"D\":\"6\",\"L\":\"13\",\"GF\":\"46\",\"GA\":\"47\",\"GD\":\"-1\",\"Pts\":\"39\",\"Pts\\/MP\":\"1.30\",\"xG\":\"40.5\",\"xGA\":\"51.7\",\"xGD\":\"-11.2\",\"xGD\\/90\":\"-0.37\",\"Last 5\":\"W W L W D\",\"Attendance\":\"24,290\",\"Top Team Scorer\":\"Rodrigo Muniz - 8\",\"Goalkeeper\":\"Bernd Leno\",\"Notes\":\"\"},{\"Squad\":\" Bournemouth\",\"MP\":\"29\",\"W\":\"10\",\"D\":\"8\",\"L\":\"11\",\"GF\":\"43\",\"GA\":\"53\",\"GD\":\"-10\",\"Pts\":\"38\",\"Pts\\/MP\":\"1.31\",\"xG\":\"43.9\",\"xGA\":\"45.9\",\"xGD\":\"-2.0\",\"xGD\\/90\":\"-0.07\",\"Last 5\":\"L W D W W\",\"Attendance\":\"11,089\",\"Top Team Scorer\":\"Dominic Solanke - 16\",\"Goalkeeper\":\"Neto\",\"Notes\":\"\"},{\"Squad\":\" Crystal Palace\",\"MP\":\"29\",\"W\":\"7\",\"D\":\"9\",\"L\":\"13\",\"GF\":\"34\",\"GA\":\"49\",\"GD\":\"-15\",\"Pts\":\"30\",\"Pts\\/MP\":\"1.03\",\"xG\":\"34.3\",\"xGA\":\"40.8\",\"xGD\":\"-6.6\",\"xGD\\/90\":\"-0.23\",\"Last 5\":\"D W L D D\",\"Attendance\":\"24,861\",\"Top Team Scorer\":\"Odsonne \\u00c9douard, Jean-Philippe Mateta... - 6\",\"Goalkeeper\":\"Sam Johnstone\",\"Notes\":\"\"},{\"Squad\":\" Brentford\",\"MP\":\"30\",\"W\":\"7\",\"D\":\"6\",\"L\":\"17\",\"GF\":\"42\",\"GA\":\"55\",\"GD\":\"-13\",\"Pts\":\"27\",\"Pts\\/MP\":\"0.90\",\"xG\":\"48.3\",\"xGA\":\"45.8\",\"xGD\":\"+2.5\",\"xGD\\/90\":\"+0.08\",\"Last 5\":\"L D L L D\",\"Attendance\":\"17,081\",\"Top Team Scorer\":\"Yoane Wissa, Bryan Mbeumo - 7\",\"Goalkeeper\":\"Mark Flekken\",\"Notes\":\"\"},{\"Squad\":\" Everton\",\"MP\":\"29\",\"W\":\"8\",\"D\":\"7\",\"L\":\"14\",\"GF\":\"30\",\"GA\":\"41\",\"GD\":\"-11\",\"Pts\":\"25\",\"Pts\\/MP\":\"0.86\",\"xG\":\"43.4\",\"xGA\":\"41.1\",\"xGD\":\"+2.3\",\"xGD\\/90\":\"+0.08\",\"Last 5\":\"D D L L L\",\"Attendance\":\"39,063\",\"Top Team Scorer\":\"Abdoulaye Doucour\\u00e9 - 6\",\"Goalkeeper\":\"Jordan Pickford\",\"Notes\":\"6-point deduction 1\"},{\"Squad\":\" Nott'ham Forest\",\"MP\":\"30\",\"W\":\"6\",\"D\":\"8\",\"L\":\"16\",\"GF\":\"36\",\"GA\":\"52\",\"GD\":\"-16\",\"Pts\":\"22\",\"Pts\\/MP\":\"0.73\",\"xG\":\"37.4\",\"xGA\":\"43.1\",\"xGD\":\"-5.6\",\"xGD\\/90\":\"-0.19\",\"Last 5\":\"L L L D D\",\"Attendance\":\"29,356\",\"Top Team Scorer\":\"Chris Wood - 10\",\"Goalkeeper\":\"Matt Turner\",\"Notes\":\"4-point deduction 2\"},{\"Squad\":\" Luton Town\",\"MP\":\"30\",\"W\":\"5\",\"D\":\"7\",\"L\":\"18\",\"GF\":\"43\",\"GA\":\"62\",\"GD\":\"-19\",\"Pts\":\"22\",\"Pts\\/MP\":\"0.73\",\"xG\":\"35.8\",\"xGA\":\"62.6\",\"xGD\":\"-26.8\",\"xGD\\/90\":\"-0.89\",\"Last 5\":\"L D L D L\",\"Attendance\":\"11,065\",\"Top Team Scorer\":\"Elijah Adebayo - 9\",\"Goalkeeper\":\"Thomas Kaminski\",\"Notes\":\"\"},{\"Squad\":\" Burnley\",\"MP\":\"30\",\"W\":\"4\",\"D\":\"6\",\"L\":\"20\",\"GF\":\"31\",\"GA\":\"65\",\"GD\":\"-34\",\"Pts\":\"18\",\"Pts\\/MP\":\"0.60\",\"xG\":\"30.0\",\"xGA\":\"54.7\",\"xGD\":\"-24.7\",\"xGD\\/90\":\"-0.82\",\"Last 5\":\"L L D W D\",\"Attendance\":\"21,159\",\"Top Team Scorer\":\"Lyle Foster, Zeki Amdouni... - 4\",\"Goalkeeper\":\"James Trafford\",\"Notes\":\"\"},{\"Squad\":\" Sheffield Utd\",\"MP\":\"29\",\"W\":\"3\",\"D\":\"6\",\"L\":\"20\",\"GF\":\"27\",\"GA\":\"77\",\"GD\":\"-50\",\"Pts\":\"15\",\"Pts\\/MP\":\"0.52\",\"xG\":\"27.0\",\"xGA\":\"58.4\",\"xGD\":\"-31.3\",\"xGD\\/90\":\"-1.08\",\"Last 5\":\"L L L D D\",\"Attendance\":\"30,332\",\"Top Team Scorer\":\"Oliver McBurnie - 5\",\"Goalkeeper\":\"Wes Foderingham\",\"Notes\":\"\"}]\n"
     ]
    }
   ],
   "source": [
    "with open('df_table.json','w') as table_1:\n",
    " # Convert the DataFrame to JSON\n",
    " table_2 = df.to_json(orient='records')\n",
    "# Print the JSON data\n",
    " print(table_2)"
   ]
  },
  {
   "cell_type": "code",
   "execution_count": 19,
   "id": "ce690784-21a0-4f50-8c95-75c0a97564d7",
   "metadata": {},
   "outputs": [
    {
     "name": "stdout",
     "output_type": "stream",
     "text": [
      "{'Squad': [' Liverpool', ' Arsenal', ' Manchester City', ' Aston Villa', ' Tottenham', ' Manchester Utd', ' West Ham', ' Newcastle Utd', ' Brighton', ' Wolves', ' Chelsea', ' Fulham', ' Bournemouth', ' Crystal Palace', ' Brentford', ' Everton', \" Nott'ham Forest\", ' Luton Town', ' Burnley', ' Sheffield Utd'], 'MP': ['29', '29', '29', '30', '29', '29', '30', '29', '29', '29', '28', '30', '29', '29', '30', '29', '30', '30', '30', '29'], 'W': ['20', '20', '19', '18', '17', '15', '12', '13', '11', '12', '11', '11', '10', '7', '7', '8', '6', '5', '4', '3'], 'D': ['7', '5', '7', '5', '5', '3', '8', '4', '9', '5', '7', '6', '8', '9', '6', '7', '8', '7', '6', '6'], 'L': ['2', '4', '3', '7', '7', '11', '10', '12', '9', '12', '10', '13', '11', '13', '17', '14', '16', '18', '20', '20'], 'GF': ['67', '70', '63', '62', '61', '40', '49', '63', '51', '42', '49', '46', '43', '34', '42', '30', '36', '43', '31', '27'], 'GA': ['27', '24', '28', '42', '43', '40', '54', '51', '46', '46', '47', '47', '53', '49', '55', '41', '52', '62', '65', '77'], 'GD': ['+40', '+46', '+35', '+20', '+18', '0', '-5', '+12', '+5', '-4', '+2', '-1', '-10', '-15', '-13', '-11', '-16', '-19', '-34', '-50'], 'Pts': ['67', '65', '64', '59', '56', '48', '44', '43', '42', '41', '40', '39', '38', '30', '27', '25', '22', '22', '18', '15'], 'Pts/MP': ['2.31', '2.24', '2.21', '1.97', '1.93', '1.66', '1.47', '1.48', '1.45', '1.41', '1.43', '1.30', '1.31', '1.03', '0.90', '0.86', '0.73', '0.73', '0.60', '0.52'], 'xG': ['65.3', '57.3', '57.6', '52.7', '52.3', '43.8', '42.4', '55.2', '45.9', '39.1', '54.3', '40.5', '43.9', '34.3', '48.3', '43.4', '37.4', '35.8', '30.0', '27.0'], 'xGA': ['34.9', '20.4', '28.2', '43.3', '47.0', '50.7', '55.0', '50.6', '41.5', '48.9', '41.9', '51.7', '45.9', '40.8', '45.8', '41.1', '43.1', '62.6', '54.7', '58.4'], 'xGD': ['+30.4', '+36.8', '+29.4', '+9.3', '+5.3', '-6.8', '-12.6', '+4.6', '+4.5', '-9.8', '+12.4', '-11.2', '-2.0', '-6.6', '+2.5', '+2.3', '-5.6', '-26.8', '-24.7', '-31.3'], 'xGD/90': ['+1.05', '+1.27', '+1.01', '+0.31', '+0.18', '-0.24', '-0.42', '+0.16', '+0.15', '-0.34', '+0.44', '-0.37', '-0.07', '-0.23', '+0.08', '+0.08', '-0.19', '-0.89', '-0.82', '-1.08'], 'Last 5': ['W W W D W', 'W W W W D', 'W W W D D', 'W W L D W', 'L W W L W', 'W L L W D', 'W W D D L', 'D L W L W', 'W D L W L', 'W W L W L', 'W D D W D', 'W W L W D', 'L W D W W', 'D W L D D', 'L D L L D', 'D D L L L', 'L L L D D', 'L D L D L', 'L L D W D', 'L L L D D'], 'Attendance': ['54,888', '60,213', '49,463', '38,918', '61,553', '73,523', '62,594', '52,126', '33,003', '31,280', '39,554', '24,290', '11,089', '24,861', '17,081', '39,063', '29,356', '11,065', '21,159', '30,332'], 'Top Team Scorer': ['Mohamed Salah - 16', 'Bukayo Saka - 13', 'Erling Haaland - 18', 'Ollie Watkins - 16', 'Son Heung-min - 15', 'Marcus Rashford, Scott McTominay... - 7', 'Jarrod Bowen - 15', 'Alexander Isak - 14', 'João Pedro - 8', 'Hwang Hee-chan - 10', 'Cole Palmer - 13', 'Rodrigo Muniz - 8', 'Dominic Solanke - 16', 'Odsonne Édouard, Jean-Philippe Mateta... - 6', 'Yoane Wissa, Bryan Mbeumo - 7', 'Abdoulaye Doucouré - 6', 'Chris Wood - 10', 'Elijah Adebayo - 9', 'Lyle Foster, Zeki Amdouni... - 4', 'Oliver McBurnie - 5'], 'Goalkeeper': ['Alisson', 'David Raya', 'Ederson', 'Emiliano Martínez', 'Guglielmo Vicario', 'André Onana', 'Alphonse Areola', 'Martin Dúbravka', 'Jason Steele', 'José Sá', 'Robert Sánchez', 'Bernd Leno', 'Neto', 'Sam Johnstone', 'Mark Flekken', 'Jordan Pickford', 'Matt Turner', 'Thomas Kaminski', 'James Trafford', 'Wes Foderingham'], 'Notes': ['', '', '', '', '', '', '', '', '', '', '', '', '', '', '', '6-point deduction 1', '4-point deduction 2', '', '', '']}\n"
     ]
    }
   ],
   "source": [
    "#json.load() loads the contents of a json file to a dictionary\n",
    "with open('dic_table.json','r') as read_table:\n",
    "    json_object=json.load(read_table)\n",
    "    print(json_object)"
   ]
  }
 ],
 "metadata": {
  "kernelspec": {
   "display_name": "Python 3 (ipykernel)",
   "language": "python",
   "name": "python3"
  },
  "language_info": {
   "codemirror_mode": {
    "name": "ipython",
    "version": 3
   },
   "file_extension": ".py",
   "mimetype": "text/x-python",
   "name": "python",
   "nbconvert_exporter": "python",
   "pygments_lexer": "ipython3",
   "version": "3.10.13"
  }
 },
 "nbformat": 4,
 "nbformat_minor": 5
}
