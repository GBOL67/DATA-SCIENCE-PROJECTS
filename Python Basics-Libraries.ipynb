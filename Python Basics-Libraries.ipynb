{
 "cells": [
  {
   "cell_type": "markdown",
   "id": "d225760c-0c64-41a4-a3b4-611216cd0e24",
   "metadata": {},
   "source": [
    "<h2><strong>PANDA</strong></h2>  "
   ]
  },
  {
   "cell_type": "code",
   "execution_count": 1,
   "id": "93ce109b-b23e-4ea3-afb2-7f58916c7612",
   "metadata": {},
   "outputs": [],
   "source": [
    "import pandas as pd\n",
    "#creating a datframe\n",
    "x={'NAME':['rose','john','jane','mary'],'ID':[1,2,3,4],'SALARY':[1000,8000,5000,6000]}\n",
    "df = pd.DataFrame(x)"
   ]
  },
  {
   "cell_type": "code",
   "execution_count": 2,
   "id": "555264dd-bc57-414f-9dee-f1ecbe339f05",
   "metadata": {},
   "outputs": [
    {
     "data": {
      "text/html": [
       "<div>\n",
       "<style scoped>\n",
       "    .dataframe tbody tr th:only-of-type {\n",
       "        vertical-align: middle;\n",
       "    }\n",
       "\n",
       "    .dataframe tbody tr th {\n",
       "        vertical-align: top;\n",
       "    }\n",
       "\n",
       "    .dataframe thead th {\n",
       "        text-align: right;\n",
       "    }\n",
       "</style>\n",
       "<table border=\"1\" class=\"dataframe\">\n",
       "  <thead>\n",
       "    <tr style=\"text-align: right;\">\n",
       "      <th></th>\n",
       "      <th>NAME</th>\n",
       "      <th>ID</th>\n",
       "      <th>SALARY</th>\n",
       "    </tr>\n",
       "  </thead>\n",
       "  <tbody>\n",
       "    <tr>\n",
       "      <th>0</th>\n",
       "      <td>rose</td>\n",
       "      <td>1</td>\n",
       "      <td>1000</td>\n",
       "    </tr>\n",
       "    <tr>\n",
       "      <th>1</th>\n",
       "      <td>john</td>\n",
       "      <td>2</td>\n",
       "      <td>8000</td>\n",
       "    </tr>\n",
       "    <tr>\n",
       "      <th>2</th>\n",
       "      <td>jane</td>\n",
       "      <td>3</td>\n",
       "      <td>5000</td>\n",
       "    </tr>\n",
       "    <tr>\n",
       "      <th>3</th>\n",
       "      <td>mary</td>\n",
       "      <td>4</td>\n",
       "      <td>6000</td>\n",
       "    </tr>\n",
       "  </tbody>\n",
       "</table>\n",
       "</div>"
      ],
      "text/plain": [
       "   NAME  ID  SALARY\n",
       "0  rose   1    1000\n",
       "1  john   2    8000\n",
       "2  jane   3    5000\n",
       "3  mary   4    6000"
      ]
     },
     "execution_count": 2,
     "metadata": {},
     "output_type": "execute_result"
    }
   ],
   "source": [
    "df"
   ]
  },
  {
   "cell_type": "code",
   "execution_count": 3,
   "id": "4f255dc3-ccb0-4e80-8c50-097e9329ad77",
   "metadata": {},
   "outputs": [
    {
     "data": {
      "text/html": [
       "<div>\n",
       "<style scoped>\n",
       "    .dataframe tbody tr th:only-of-type {\n",
       "        vertical-align: middle;\n",
       "    }\n",
       "\n",
       "    .dataframe tbody tr th {\n",
       "        vertical-align: top;\n",
       "    }\n",
       "\n",
       "    .dataframe thead th {\n",
       "        text-align: right;\n",
       "    }\n",
       "</style>\n",
       "<table border=\"1\" class=\"dataframe\">\n",
       "  <thead>\n",
       "    <tr style=\"text-align: right;\">\n",
       "      <th></th>\n",
       "      <th>ID</th>\n",
       "    </tr>\n",
       "  </thead>\n",
       "  <tbody>\n",
       "    <tr>\n",
       "      <th>0</th>\n",
       "      <td>1</td>\n",
       "    </tr>\n",
       "    <tr>\n",
       "      <th>1</th>\n",
       "      <td>2</td>\n",
       "    </tr>\n",
       "    <tr>\n",
       "      <th>2</th>\n",
       "      <td>3</td>\n",
       "    </tr>\n",
       "    <tr>\n",
       "      <th>3</th>\n",
       "      <td>4</td>\n",
       "    </tr>\n",
       "  </tbody>\n",
       "</table>\n",
       "</div>"
      ],
      "text/plain": [
       "   ID\n",
       "0   1\n",
       "1   2\n",
       "2   3\n",
       "3   4"
      ]
     },
     "execution_count": 3,
     "metadata": {},
     "output_type": "execute_result"
    }
   ],
   "source": [
    "#Retrieving the 'ID' column and assigning it to a column\n",
    "c=df[['ID']]\n",
    "c"
   ]
  },
  {
   "cell_type": "code",
   "execution_count": 4,
   "id": "3f615e88-49bc-46e4-af8a-39c5d5bfc0c8",
   "metadata": {},
   "outputs": [
    {
     "data": {
      "text/html": [
       "<div>\n",
       "<style scoped>\n",
       "    .dataframe tbody tr th:only-of-type {\n",
       "        vertical-align: middle;\n",
       "    }\n",
       "\n",
       "    .dataframe tbody tr th {\n",
       "        vertical-align: top;\n",
       "    }\n",
       "\n",
       "    .dataframe thead th {\n",
       "        text-align: right;\n",
       "    }\n",
       "</style>\n",
       "<table border=\"1\" class=\"dataframe\">\n",
       "  <thead>\n",
       "    <tr style=\"text-align: right;\">\n",
       "      <th></th>\n",
       "      <th>ID</th>\n",
       "      <th>SALARY</th>\n",
       "    </tr>\n",
       "  </thead>\n",
       "  <tbody>\n",
       "    <tr>\n",
       "      <th>0</th>\n",
       "      <td>1</td>\n",
       "      <td>1000</td>\n",
       "    </tr>\n",
       "    <tr>\n",
       "      <th>1</th>\n",
       "      <td>2</td>\n",
       "      <td>8000</td>\n",
       "    </tr>\n",
       "    <tr>\n",
       "      <th>2</th>\n",
       "      <td>3</td>\n",
       "      <td>5000</td>\n",
       "    </tr>\n",
       "    <tr>\n",
       "      <th>3</th>\n",
       "      <td>4</td>\n",
       "      <td>6000</td>\n",
       "    </tr>\n",
       "  </tbody>\n",
       "</table>\n",
       "</div>"
      ],
      "text/plain": [
       "   ID  SALARY\n",
       "0   1    1000\n",
       "1   2    8000\n",
       "2   3    5000\n",
       "3   4    6000"
      ]
     },
     "execution_count": 4,
     "metadata": {},
     "output_type": "execute_result"
    }
   ],
   "source": [
    "#Access to multiply columns\n",
    "z=df[['ID','SALARY']]\n",
    "z"
   ]
  },
  {
   "cell_type": "markdown",
   "id": "c5b6baec-482c-4506-bba7-d8d81d1bf1d0",
   "metadata": {},
   "source": [
    "### SERIES METHODS (ATTRIBUTES)"
   ]
  },
  {
   "cell_type": "code",
   "execution_count": 5,
   "id": "b6f0be46-301e-479f-890c-9401f4f36b18",
   "metadata": {},
   "outputs": [
    {
     "name": "stdout",
     "output_type": "stream",
     "text": [
      "[['rose' 1 1000]\n",
      " ['john' 2 8000]\n",
      " ['jane' 3 5000]\n",
      " ['mary' 4 6000]]\n"
     ]
    }
   ],
   "source": [
    "print(df.values)"
   ]
  },
  {
   "cell_type": "code",
   "execution_count": 6,
   "id": "5c52d447-85fc-46ca-a998-749b5085f9ce",
   "metadata": {},
   "outputs": [
    {
     "name": "stdout",
     "output_type": "stream",
     "text": [
      "RangeIndex(start=0, stop=4, step=1)\n"
     ]
    }
   ],
   "source": [
    "print(df.index)"
   ]
  },
  {
   "cell_type": "code",
   "execution_count": 7,
   "id": "98bb85e8-6e22-4a6f-828e-2fb78d913da7",
   "metadata": {},
   "outputs": [
    {
     "name": "stdout",
     "output_type": "stream",
     "text": [
      "12\n"
     ]
    }
   ],
   "source": [
    "print(df.size)"
   ]
  },
  {
   "cell_type": "code",
   "execution_count": 8,
   "id": "39565082-c30b-4d4b-9c64-4f45ab7e64a3",
   "metadata": {},
   "outputs": [
    {
     "name": "stdout",
     "output_type": "stream",
     "text": [
      "MEAN: SALARY    5000.0\n",
      "dtype: float64\n",
      "SUM: SALARY    20000\n",
      "dtype: int64\n",
      "MIN: SALARY    1000\n",
      "dtype: int64\n",
      "MAX: SALARY    8000\n",
      "dtype: int64\n"
     ]
    }
   ],
   "source": [
    "print('MEAN:',df[['SALARY']].mean())\n",
    "print('SUM:',df[['SALARY']].sum())\n",
    "print('MIN:',df[['SALARY']].min())\n",
    "print('MAX:',df[['SALARY']].max())"
   ]
  },
  {
   "cell_type": "code",
   "execution_count": 9,
   "id": "82206707-7602-45de-bb06-44cc4d69d0ab",
   "metadata": {},
   "outputs": [
    {
     "name": "stdout",
     "output_type": "stream",
     "text": [
      "   NAME\n",
      "2  jane\n",
      "1  john\n",
      "3  mary\n",
      "0  rose\n"
     ]
    }
   ],
   "source": [
    "print(df[['NAME']].sort_values('NAME'))"
   ]
  },
  {
   "cell_type": "code",
   "execution_count": 10,
   "id": "b4acc91d-5377-4404-94ed-f678b879c4d1",
   "metadata": {},
   "outputs": [
    {
     "name": "stdout",
     "output_type": "stream",
     "text": [
      "   NAME\n",
      "0  rose\n",
      "1  john\n",
      "2  jane\n",
      "3  mary\n"
     ]
    }
   ],
   "source": [
    "print(df[['NAME']].sort_index())"
   ]
  },
  {
   "cell_type": "code",
   "execution_count": 11,
   "id": "d5030cfd-cf62-493d-b0e8-f7945fc75399",
   "metadata": {},
   "outputs": [
    {
     "name": "stdout",
     "output_type": "stream",
     "text": [
      "mary\n",
      "1000\n"
     ]
    }
   ],
   "source": [
    "#loc and iloc \n",
    "print(df.loc[3,'NAME'])\n",
    "print(df.iloc[0,2])"
   ]
  },
  {
   "cell_type": "markdown",
   "id": "6688a672-59f6-49f4-b06e-3946f023e75a",
   "metadata": {},
   "source": [
    "## <strong> NUMPY </strong>"
   ]
  },
  {
   "cell_type": "code",
   "execution_count": 12,
   "id": "a567fa67-87c6-4d23-9891-dfcfbb2b1bac",
   "metadata": {},
   "outputs": [
    {
     "data": {
      "text/plain": [
       "array([0, 1, 2, 3, 4, 5, 6, 7, 8, 9])"
      ]
     },
     "execution_count": 12,
     "metadata": {},
     "output_type": "execute_result"
    }
   ],
   "source": [
    "import numpy as np\n",
    "#creating a numpy array\n",
    "a =np.array([0, 1, 2, 3, 4, 5, 6, 7, 8, 9])\n",
    "a"
   ]
  },
  {
   "cell_type": "markdown",
   "id": "2e2271b5-f95d-4d6b-b0c1-b7e5001ac5f7",
   "metadata": {},
   "source": [
    "### METHODS"
   ]
  },
  {
   "cell_type": "code",
   "execution_count": 13,
   "id": "50d2e60d-5751-4e91-b6cf-47f9ac1863f8",
   "metadata": {},
   "outputs": [
    {
     "data": {
      "text/plain": [
       "numpy.ndarray"
      ]
     },
     "execution_count": 13,
     "metadata": {},
     "output_type": "execute_result"
    }
   ],
   "source": [
    "type(a) "
   ]
  },
  {
   "cell_type": "code",
   "execution_count": 14,
   "id": "371824c4-3eec-421e-b7b0-bf91d3fc87e7",
   "metadata": {},
   "outputs": [
    {
     "data": {
      "text/plain": [
       "dtype('int32')"
      ]
     },
     "execution_count": 14,
     "metadata": {},
     "output_type": "execute_result"
    }
   ],
   "source": [
    "a.dtype"
   ]
  },
  {
   "cell_type": "code",
   "execution_count": 15,
   "id": "5fac5a34-151e-4624-b3e9-4c1606104b74",
   "metadata": {},
   "outputs": [
    {
     "data": {
      "text/plain": [
       "array([0, 2, 4])"
      ]
     },
     "execution_count": 15,
     "metadata": {},
     "output_type": "execute_result"
    }
   ],
   "source": [
    "# Selecting elements from index 0 to 6 with a step of 2\n",
    "a[0:6:2]"
   ]
  },
  {
   "cell_type": "code",
   "execution_count": 16,
   "id": "00d7a519-d846-42ad-8b9d-1c98146514fa",
   "metadata": {},
   "outputs": [
    {
     "data": {
      "text/plain": [
       "array([9, 8, 7, 6, 5, 4, 3, 2, 1, 0])"
      ]
     },
     "execution_count": 16,
     "metadata": {},
     "output_type": "execute_result"
    }
   ],
   "source": [
    "# Reversing the array\n",
    "a[::-1]"
   ]
  },
  {
   "cell_type": "markdown",
   "id": "f3cbaace-65df-4013-b1f3-b291f34f2176",
   "metadata": {},
   "source": [
    "### ATTRIBUTES"
   ]
  },
  {
   "cell_type": "code",
   "execution_count": 17,
   "id": "58d87511-85fe-4642-8eb5-385111bdac80",
   "metadata": {},
   "outputs": [],
   "source": [
    "arr1= np.array([10,11,12,13,14,15])\n",
    "arr2= np.array([20,21,22,23,24,24])"
   ]
  },
  {
   "cell_type": "code",
   "execution_count": 18,
   "id": "a090242b-a121-40a4-a95f-f5208b6e0153",
   "metadata": {},
   "outputs": [
    {
     "name": "stdout",
     "output_type": "stream",
     "text": [
      "ADDITION: [30 32 34 36 38 39]\n",
      "SUBTRACTION: [-10 -10 -10 -10 -10  -9]\n",
      "MULTIPLY: [200 231 264 299 336 360]\n",
      "DIVISION: [0.5        0.52380952 0.54545455 0.56521739 0.58333333 0.625     ]\n",
      "DOT: 1690\n"
     ]
    }
   ],
   "source": [
    "print('ADDITION:',np.add(arr1,arr2))\n",
    "print('SUBTRACTION:',np.subtract(arr1,arr2))\n",
    "print('MULTIPLY:',np.multiply(arr1,arr2))\n",
    "print('DIVISION:',np.divide(arr1,arr2))\n",
    "print('DOT:',np.dot(arr1,arr2))"
   ]
  },
  {
   "cell_type": "code",
   "execution_count": 19,
   "id": "d01b8f70-99e2-4837-a390-93e95c8fd7c1",
   "metadata": {},
   "outputs": [
    {
     "name": "stdout",
     "output_type": "stream",
     "text": [
      "[ 1.  2.  3.  4.  5.  6.  7.  8.  9. 10.]\n"
     ]
    }
   ],
   "source": [
    "print(np.linspace(1,10,num=10)) "
   ]
  },
  {
   "cell_type": "markdown",
   "id": "3d3eda7c-2904-47ea-85b5-0840c0974b7d",
   "metadata": {},
   "source": [
    "### 2D NUMPY IN PYTHON"
   ]
  },
  {
   "cell_type": "code",
   "execution_count": 20,
   "id": "cba4d7fd-16ec-4eb6-b60d-9e0edd0332c1",
   "metadata": {},
   "outputs": [
    {
     "data": {
      "text/plain": [
       "array([[0, 1, 1],\n",
       "       [1, 0, 1]])"
      ]
     },
     "execution_count": 20,
     "metadata": {},
     "output_type": "execute_result"
    }
   ],
   "source": [
    "A = np.array([[0,1,1],[1,0,1]])\n",
    "A"
   ]
  }
 ],
 "metadata": {
  "kernelspec": {
   "display_name": "Python 3 (ipykernel)",
   "language": "python",
   "name": "python3"
  },
  "language_info": {
   "codemirror_mode": {
    "name": "ipython",
    "version": 3
   },
   "file_extension": ".py",
   "mimetype": "text/x-python",
   "name": "python",
   "nbconvert_exporter": "python",
   "pygments_lexer": "ipython3",
   "version": "3.10.13"
  }
 },
 "nbformat": 4,
 "nbformat_minor": 5
}
