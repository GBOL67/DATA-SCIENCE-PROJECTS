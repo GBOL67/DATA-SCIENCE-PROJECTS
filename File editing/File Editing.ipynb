{
 "cells": [
  {
   "cell_type": "markdown",
   "id": "5d828cf2-f5bf-4465-b63d-f5ea24821555",
   "metadata": {},
   "source": [
    "# FILE EDITING"
   ]
  },
  {
   "cell_type": "markdown",
   "id": "704383f2-da09-4db2-b6da-11bd28458e94",
   "metadata": {},
   "source": [
    "### WRITING FILES WITH WRITE"
   ]
  },
  {
   "cell_type": "code",
   "execution_count": 1,
   "id": "00702e6d-68c1-446c-90b8-c2ef48f19e89",
   "metadata": {},
   "outputs": [],
   "source": [
    "#write a lines to file\n",
    "examp1='example1.text'\n",
    "with open(examp1,'w') as writefile:\n",
    "    writefile.write('This is line A\\n')\n",
    "    writefile.write('This is line B\\n')\n",
    "    writefile.write('This is line C\\n')"
   ]
  },
  {
   "cell_type": "markdown",
   "id": "83656ce5-4650-47a3-866e-1aa2cbeda65a",
   "metadata": {},
   "source": [
    "### READING FILES WITH READ"
   ]
  },
  {
   "cell_type": "markdown",
   "id": "f2c90e43-dbca-4a39-ad2a-add9a8c8e8fc",
   "metadata": {},
   "source": [
    "### READ METHODS"
   ]
  },
  {
   "cell_type": "code",
   "execution_count": 2,
   "id": "0d93ce35-6c45-4409-9a33-46d237999869",
   "metadata": {},
   "outputs": [],
   "source": [
    "with open(examp1,'r') as readfile:\n",
    "    filecontent = readfile.read() "
   ]
  },
  {
   "cell_type": "code",
   "execution_count": 3,
   "id": "fb6ca25d-fcd2-4bf5-b892-7897318fffe8",
   "metadata": {},
   "outputs": [
    {
     "name": "stdout",
     "output_type": "stream",
     "text": [
      "This is line A\n",
      "This is line B\n",
      "This is line C\n",
      "\n"
     ]
    }
   ],
   "source": [
    "print(filecontent)"
   ]
  },
  {
   "cell_type": "code",
   "execution_count": 4,
   "id": "3cb25695-ed59-47e2-93a0-07771389ca78",
   "metadata": {},
   "outputs": [
    {
     "name": "stdout",
     "output_type": "stream",
     "text": [
      "This\n",
      "first line: is line A\n",
      "\n",
      "This is line B\n",
      "\n"
     ]
    }
   ],
   "source": [
    "with open(examp1,'r') as readfile:\n",
    "#Read first four characters\n",
    "    print(readfile.read(4))\n",
    "#Read oneline\n",
    "    print(\"first line:\"+readfile.readline())\n",
    "    print(readfile.readline(20))\n",
    "    "
   ]
  },
  {
   "cell_type": "code",
   "execution_count": 5,
   "id": "261bd6e9-8b32-4114-a777-fb1ac4066385",
   "metadata": {},
   "outputs": [
    {
     "name": "stdout",
     "output_type": "stream",
     "text": [
      "Iteration 0 : This is line A\n",
      "\n",
      "Iteration 1 : This is line B\n",
      "\n",
      "Iteration 2 : This is line C\n",
      "\n"
     ]
    }
   ],
   "source": [
    "#Iterate through the line\n",
    "with open(examp1,'r') as readfile:\n",
    "    i=0;\n",
    "    for line in readfile:\n",
    "        print(\"Iteration\",str(i),\":\",line)\n",
    "        i=i+1"
   ]
  },
  {
   "cell_type": "markdown",
   "id": "3e2a0e26-b1ca-4486-bba2-a5ad4623de19",
   "metadata": {},
   "source": [
    "### APPENDING FILES"
   ]
  },
  {
   "cell_type": "code",
   "execution_count": 6,
   "id": "f294a553-24ad-4f08-8a43-8b2137a1afbe",
   "metadata": {},
   "outputs": [
    {
     "name": "stdout",
     "output_type": "stream",
     "text": [
      "This is line A\n",
      "This is line B\n",
      "This is line C\n",
      "This is line D\n",
      "This is line E\n",
      "\n"
     ]
    }
   ],
   "source": [
    "#write a new line to textfile\n",
    "with open(examp1,'a') as testwritefile:\n",
    "    testwritefile.write(\"This is line D\\n\")\n",
    "    testwritefile.write(\"This is line E\\n\")\n",
    "with open(examp1,'r') as readfile:\n",
    "    print(readfile.read())"
   ]
  },
  {
   "cell_type": "markdown",
   "id": "d6c666f0-ac09-42e2-b924-eb65fb1ca776",
   "metadata": {},
   "source": [
    "### COPY A FILE"
   ]
  },
  {
   "cell_type": "code",
   "execution_count": 7,
   "id": "68906098-0251-422a-8d05-5b23c38ee778",
   "metadata": {},
   "outputs": [
    {
     "name": "stdout",
     "output_type": "stream",
     "text": [
      "THIS FILE IS COPIED\n",
      "This is line A\n",
      "This is line B\n",
      "This is line C\n",
      "This is line D\n",
      "This is line E\n",
      "\n"
     ]
    }
   ],
   "source": [
    "examp2='example2.txt'\n",
    "with open(examp1,'r') as readfile:\n",
    "    with open(examp2,'w') as writefile:\n",
    "        writefile.write(\"THIS FILE IS COPIED\\n\")\n",
    "        for line in readfile:\n",
    "            writefile.write(line)\n",
    "with open(examp2,'r') as readfile:\n",
    "    print(readfile.read())"
   ]
  },
  {
   "cell_type": "markdown",
   "id": "ae7a8685-f1a6-4ef6-a72f-5bb41e4cde16",
   "metadata": {},
   "source": [
    "### EXERCISE"
   ]
  },
  {
   "cell_type": "markdown",
   "id": "8e1eda79-44c4-4dfe-825b-557e71335499",
   "metadata": {},
   "source": [
    " Write a function that clean a file (memreg) for a local university's raptor fan club.The file 'memreg' contains details of registered members."
   ]
  },
  {
   "cell_type": "markdown",
   "id": "1e8d705d-482b-4622-b96f-1fb1e443cb3a",
   "metadata": {},
   "source": [
    "1) Remove each member with a 'no' in their Active column.\n",
    "2) Keep track of each of the removed members.\n",
    "3) append them to the exMem file."
   ]
  },
  {
   "cell_type": "code",
   "execution_count": 8,
   "id": "7a2a76e5-ba1d-49a9-8291-49127d67d954",
   "metadata": {},
   "outputs": [],
   "source": [
    "import random\n",
    "\n",
    "# Creating the file\n",
    "memreg = 'members.txt'\n",
    "exreg = 'inactive.txt'\n",
    "\n",
    "# Creating a folder with a function\n",
    "#this function create random data for memreg and exreg \n",
    "def gefiles(current, old):\n",
    "    data = \"{:^13} {:<11} {:<6}\\n\"\n",
    "   \n",
    "    with open(current, 'w+') as writefile:\n",
    "        writefile.write(\"MembershipNo\\t Date\\t Active\\n\")\n",
    "        for rowno in range(20):\n",
    "            date = str(random.randint(2015, 2020)) + '-' + str(random.randint(1, 12)) + '-' + str(random.randint(1, 25))\n",
    "            active =random.randint(0, 1)\n",
    "            writefile.write(data.format(random.randint(10000, 99999), date, active))\n",
    "    with open(current, 'r') as readcurrent:\n",
    "     with open(old, 'w+') as writeold:\n",
    "       writeold.write(\"MembershipNo\\t Date\\t Active\\n\")  \n",
    "       for row in range(20):\n",
    "         for line in readcurrent:\n",
    "           what=line[26]\n",
    "           if what == \"0\":\n",
    "            writeold.write(line)\n",
    "         \n",
    "\n",
    "\n"
   ]
  },
  {
   "cell_type": "code",
   "execution_count": 9,
   "id": "b87c4151-56eb-42e8-8e1f-d8d13bf044f0",
   "metadata": {},
   "outputs": [],
   "source": [
    "# Call the function\n",
    "gefiles(memreg, exreg)\n"
   ]
  },
  {
   "cell_type": "code",
   "execution_count": 10,
   "id": "6276e6da-770f-4be8-a274-e6112886dda5",
   "metadata": {},
   "outputs": [
    {
     "name": "stdout",
     "output_type": "stream",
     "text": [
      "MembershipNo\t Date\t Active\n",
      "    18838     2015-6-21   0     \n",
      "    89077     2017-8-25   0     \n",
      "    44304     2019-1-17   1     \n",
      "    35786     2018-10-8   0     \n",
      "    33664     2020-7-2    0     \n",
      "    97580     2015-8-7    0     \n",
      "    59126     2015-12-18  1     \n",
      "    69703     2016-12-4   1     \n",
      "    39116     2015-11-19  0     \n",
      "    72223     2019-8-22   0     \n",
      "    88067     2020-1-4    1     \n",
      "    90281     2016-5-5    1     \n",
      "    35665     2015-9-16   1     \n",
      "    13651     2016-8-14   1     \n",
      "    60969     2015-10-4   1     \n",
      "    43002     2019-8-25   0     \n",
      "    79601     2016-12-25  0     \n",
      "    67748     2016-10-22  0     \n",
      "    53330     2018-2-20   1     \n",
      "    78817     2019-9-1    1     \n",
      "\n"
     ]
    }
   ],
   "source": [
    "# read memreg\n",
    "with open(memreg, 'r') as rfile:\n",
    "        print(rfile.read())"
   ]
  },
  {
   "cell_type": "code",
   "execution_count": 11,
   "id": "1d0f3ceb-a21b-4d92-8151-9f053f681155",
   "metadata": {},
   "outputs": [
    {
     "name": "stdout",
     "output_type": "stream",
     "text": [
      "MembershipNo\t Date\t Active\n",
      "    18838     2015-6-21   0     \n",
      "    89077     2017-8-25   0     \n",
      "    35786     2018-10-8   0     \n",
      "    33664     2020-7-2    0     \n",
      "    97580     2015-8-7    0     \n",
      "    39116     2015-11-19  0     \n",
      "    72223     2019-8-22   0     \n",
      "    43002     2019-8-25   0     \n",
      "    79601     2016-12-25  0     \n",
      "    67748     2016-10-22  0     \n",
      "\n"
     ]
    }
   ],
   "source": [
    "#read exreg\n",
    "with open(exreg, 'r') as rfile:\n",
    "        print(rfile.read())"
   ]
  },
  {
   "cell_type": "code",
   "execution_count": 12,
   "id": "928c166f-b3cb-44f6-8e24-1a0782845bf2",
   "metadata": {},
   "outputs": [
    {
     "name": "stdout",
     "output_type": "stream",
     "text": [
      "Active members:     44304     2019-1-17   1     \n",
      "\n",
      "Active members:     59126     2015-12-18  1     \n",
      "\n",
      "Active members:     69703     2016-12-4   1     \n",
      "\n",
      "Active members:     88067     2020-1-4    1     \n",
      "\n",
      "Active members:     90281     2016-5-5    1     \n",
      "\n",
      "Active members:     35665     2015-9-16   1     \n",
      "\n",
      "Active members:     13651     2016-8-14   1     \n",
      "\n",
      "Active members:     60969     2015-10-4   1     \n",
      "\n",
      "Active members:     53330     2018-2-20   1     \n",
      "\n",
      "Active members:     78817     2019-9-1    1     \n",
      "\n"
     ]
    }
   ],
   "source": [
    "with open(memreg, 'r') as rfile:\n",
    " with open(exreg, 'r') as exfile:\n",
    "    with open(memreg, 'a+') as editfile:\n",
    "      rfile.readline()\n",
    "      for line in rfile:\n",
    "          if line[26] == \"1\":\n",
    "            print(\"Active members:\",line)\n",
    "                \n",
    "       \n",
    "                   \n",
    "                    \n",
    "                   \n",
    "       \n",
    "     \n",
    "\n",
    "         "
   ]
  }
 ],
 "metadata": {
  "kernelspec": {
   "display_name": "Python 3 (ipykernel)",
   "language": "python",
   "name": "python3"
  },
  "language_info": {
   "codemirror_mode": {
    "name": "ipython",
    "version": 3
   },
   "file_extension": ".py",
   "mimetype": "text/x-python",
   "name": "python",
   "nbconvert_exporter": "python",
   "pygments_lexer": "ipython3",
   "version": "3.10.13"
  }
 },
 "nbformat": 4,
 "nbformat_minor": 5
}
