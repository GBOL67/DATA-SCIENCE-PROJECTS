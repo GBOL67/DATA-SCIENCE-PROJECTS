{
 "cells": [
  {
   "cell_type": "markdown",
   "id": "905724b7-6ffc-44ae-bdc2-263ff06d0e89",
   "metadata": {},
   "source": [
    "PHYTON \n",
    "BASICS"
   ]
  },
  {
   "cell_type": "markdown",
   "id": "97310354-38d0-48ac-af9f-a70d8163913d",
   "metadata": {},
   "source": [
    "DATA TYPES"
   ]
  },
  {
   "cell_type": "code",
   "execution_count": 3,
   "id": "48e7c31d-62a8-41b0-bc1e-12459236d978",
   "metadata": {},
   "outputs": [],
   "source": [
    "int = 12;\n",
    "float = 27.123;\n",
    "string = \"HELLO WORLD\";"
   ]
  },
  {
   "cell_type": "markdown",
   "id": "b083499f-4dbf-4e0c-8c84-4761480318de",
   "metadata": {},
   "source": [
    "EXPRESSIONS AND VARIABLES\n",
    "STRING OPERATION"
   ]
  },
  {
   "cell_type": "markdown",
   "id": "d5518eeb-9e6b-45ea-bcc4-ec42454014a8",
   "metadata": {},
   "source": [
    "INDEXING"
   ]
  },
  {
   "cell_type": "markdown",
   "id": "3ac61f95-53b8-445b-a308-eb9e8a502822",
   "metadata": {},
   "source": [
    "STRING OPERATION"
   ]
  },
  {
   "cell_type": "code",
   "execution_count": 9,
   "id": "3637a557-a5c3-4d78-8ddb-d87ef3e22701",
   "metadata": {},
   "outputs": [
    {
     "name": "stdout",
     "output_type": "stream",
     "text": [
      "m\n"
     ]
    }
   ],
   "source": [
    "name =\"mike\";\n",
    "print(name[0]);"
   ]
  },
  {
   "cell_type": "code",
   "execution_count": 60,
   "id": "0f1c5199-e32d-44dd-924b-d7a8daa03e07",
   "metadata": {},
   "outputs": [
    {
     "name": "stdout",
     "output_type": "stream",
     "text": [
      "mi\n"
     ]
    }
   ],
   "source": [
    "#length of a string \n",
    "len(\"mike\");\n",
    "#slicing\n",
    "name[0:2];\n",
    "#stride\n",
    "#name[::2]\n",
    "print(name[0:2])\n",
    "#NEW LINE =\\N\n",
    "#TAB \\t"
   ]
  },
  {
   "cell_type": "markdown",
   "id": "bd15b540-c351-4d76-bfb1-464f2b18b2ec",
   "metadata": {},
   "source": [
    "STRING OPERATION"
   ]
  },
  {
   "cell_type": "code",
   "execution_count": 18,
   "id": "126267cd-a3cd-44ff-a64e-b4f9e3a811da",
   "metadata": {},
   "outputs": [
    {
     "name": "stdout",
     "output_type": "stream",
     "text": [
      "MIKE\n",
      "mike\n"
     ]
    }
   ],
   "source": [
    "name =\"mike\";\n",
    "b=name.upper();\n",
    "print(b);\n",
    "\n",
    "name =\"mike\";\n",
    "c=name.lower();\n",
    "print(c);"
   ]
  },
  {
   "cell_type": "markdown",
   "id": "e15b71bc-fe5f-4541-a07a-4dc1bbd6420e",
   "metadata": {},
   "source": [
    "COMPOUND DATA TYPES"
   ]
  },
  {
   "cell_type": "code",
   "execution_count": 21,
   "id": "e813029c-27fd-4b1f-87e1-2e602fb41be8",
   "metadata": {},
   "outputs": [
    {
     "name": "stdout",
     "output_type": "stream",
     "text": [
      "10\n"
     ]
    }
   ],
   "source": [
    "#TYPLES = ()\n",
    "TUPLE = (\"disco\",10,1.2);\n",
    "print(TUPLE[1]);\n"
   ]
  },
  {
   "cell_type": "code",
   "execution_count": 22,
   "id": "513ec7e8-40a2-4afb-b48d-94c398b67a8b",
   "metadata": {},
   "outputs": [
    {
     "name": "stdout",
     "output_type": "stream",
     "text": [
      "10.1\n"
     ]
    }
   ],
   "source": [
    "#list = []\n",
    "list = [\"mike\",10.1,1982];\n",
    "print(list[1])"
   ]
  },
  {
   "cell_type": "code",
   "execution_count": 26,
   "id": "128aa56d-7ac1-4aa4-a6be-162451343b14",
   "metadata": {},
   "outputs": [
    {
     "name": "stdout",
     "output_type": "stream",
     "text": [
      "['mike', 10.1, 1982, ['pop', 10]]\n"
     ]
    }
   ],
   "source": [
    "#LIST OPERATIONS\n",
    "list.append(['pop',10]);\n",
    "print(list);"
   ]
  },
  {
   "cell_type": "code",
   "execution_count": 27,
   "id": "7a7d68ff-10ea-4a74-9883-461c5565d562",
   "metadata": {},
   "outputs": [
    {
     "name": "stdout",
     "output_type": "stream",
     "text": [
      "['mike', 10.1, 1982, ['pop', 10], 'pop', 10]\n"
     ]
    }
   ],
   "source": [
    "#extend\n",
    "list.extend(['pop',10]);\n",
    "print(list);"
   ]
  },
  {
   "cell_type": "code",
   "execution_count": 29,
   "id": "9690de12-ad6b-4517-acfd-0798f8eb7e9e",
   "metadata": {},
   "outputs": [
    {
     "name": "stdout",
     "output_type": "stream",
     "text": [
      "[10.1, 1982, ['pop', 10], 'pop', 10]\n"
     ]
    }
   ],
   "source": [
    "#delete\n",
    "del(list[0]);\n",
    "print(list);"
   ]
  },
  {
   "cell_type": "markdown",
   "id": "73bc2d17-e01a-4f6b-8aef-0be890041f9d",
   "metadata": {},
   "source": [
    "DICTIONARIES"
   ]
  },
  {
   "cell_type": "code",
   "execution_count": 32,
   "id": "5d695b4f-4791-4614-9b49-0a179c697c19",
   "metadata": {},
   "outputs": [
    {
     "name": "stdout",
     "output_type": "stream",
     "text": [
      "{'ket1': 1, 'ket2': 2, 'ket3': [3, 3, 3], 'ket4': (4, 4, 4)}\n"
     ]
    }
   ],
   "source": [
    "dict ={\"ket1\":1,\"ket2\":2,\"ket3\":[3,3,3],\"ket4\":(4,4,4)};\n",
    "print(dict);"
   ]
  },
  {
   "cell_type": "code",
   "execution_count": 35,
   "id": "179e2dff-1e53-4fa6-b653-ac89cb91795a",
   "metadata": {},
   "outputs": [
    {
     "name": "stdout",
     "output_type": "stream",
     "text": [
      "1\n"
     ]
    }
   ],
   "source": [
    "print(dict[\"ket1\"]) #access"
   ]
  },
  {
   "cell_type": "code",
   "execution_count": 36,
   "id": "ea538c40-0ebd-4273-befb-7b4c22e961b2",
   "metadata": {},
   "outputs": [
    {
     "name": "stdout",
     "output_type": "stream",
     "text": [
      "dict_keys(['ket1', 'ket2', 'ket3', 'ket4'])\n"
     ]
    }
   ],
   "source": [
    "print(dict.keys());"
   ]
  },
  {
   "cell_type": "code",
   "execution_count": 37,
   "id": "9cc0f26f-b7ee-4dba-9293-c962990d8cd4",
   "metadata": {},
   "outputs": [
    {
     "name": "stdout",
     "output_type": "stream",
     "text": [
      "dict_values([1, 2, [3, 3, 3], (4, 4, 4)])\n"
     ]
    }
   ],
   "source": [
    "print(dict.values());"
   ]
  },
  {
   "cell_type": "markdown",
   "id": "f875322d-ae92-4931-a0da-abea780d614c",
   "metadata": {},
   "source": [
    "SET"
   ]
  },
  {
   "cell_type": "code",
   "execution_count": 39,
   "id": "6a77669e-e559-4bb5-be61-43b476786ee8",
   "metadata": {},
   "outputs": [
    {
     "name": "stdout",
     "output_type": "stream",
     "text": [
      "{'r&b', 'sell', 'rock', 'pop'}\n"
     ]
    }
   ],
   "source": [
    "set1={\"pop\",\"rock\",\"sell\",\"rock\",\"r&b\",\"rock\"};\n",
    "print(set1);"
   ]
  },
  {
   "cell_type": "code",
   "execution_count": 40,
   "id": "6ff6be24-fdea-4f2d-ae79-011f4b1695bf",
   "metadata": {},
   "outputs": [
    {
     "name": "stdout",
     "output_type": "stream",
     "text": [
      "{'r&b', 'sell', 'rock', 'pop'}\n"
     ]
    }
   ],
   "source": [
    "#convert list to set\n",
    "A = set(set1);\n",
    "print(A);"
   ]
  },
  {
   "cell_type": "code",
   "execution_count": 43,
   "id": "90663be0-096e-4fc1-9998-7a44ca7d057b",
   "metadata": {},
   "outputs": [
    {
     "name": "stdout",
     "output_type": "stream",
     "text": [
      "{'r&b', 'pop', 'NSYNC', 'sell', 'rock'}\n"
     ]
    }
   ],
   "source": [
    "#add element\n",
    "A.add(\"NSYNC\");\n",
    "print(A);"
   ]
  },
  {
   "cell_type": "code",
   "execution_count": 44,
   "id": "ad9e6f9b-b996-4439-b7fa-829c3cfe1f8d",
   "metadata": {},
   "outputs": [
    {
     "name": "stdout",
     "output_type": "stream",
     "text": [
      "{'r&b', 'pop', 'sell', 'rock'}\n"
     ]
    }
   ],
   "source": [
    "#removw\n",
    "A.remove(\"NSYNC\");\n",
    "print(A);"
   ]
  },
  {
   "cell_type": "code",
   "execution_count": 50,
   "id": "ea1f651b-9cfe-4f58-af37-9a7fd9ac0571",
   "metadata": {},
   "outputs": [
    {
     "name": "stdout",
     "output_type": "stream",
     "text": [
      "{'Thiller', 'AC/DC', 'Back in Black'} {'AC/DC', 'Back in Black', 'The dark side of the moon'}\n"
     ]
    }
   ],
   "source": [
    "#EXAMPLE SET\n",
    "albumset1=set([\"Thiller\",\"AC/DC\",\"Back in Black\"]);\n",
    "albumset2 = set([\"AC/DC\",\"Back in Black\",\"The dark side of the moon\"]);\n",
    "print(albumset1,albumset2);"
   ]
  },
  {
   "cell_type": "code",
   "execution_count": 53,
   "id": "30be36f3-626e-47a9-b088-6b7be26abf33",
   "metadata": {},
   "outputs": [
    {
     "name": "stdout",
     "output_type": "stream",
     "text": [
      "{'AC/DC', 'Back in Black'} {'Thiller'}\n"
     ]
    }
   ],
   "source": [
    "#find the intersections and difference\n",
    "intersection = albumset1&albumset2;\n",
    "print(intersection,albumset1.difference(albumset2));"
   ]
  },
  {
   "cell_type": "markdown",
   "id": "673b3fd4-1967-4b48-89ab-973216512f5f",
   "metadata": {},
   "source": [
    "CONDITION AND BRANCHING"
   ]
  },
  {
   "cell_type": "markdown",
   "id": "63e23377-4e53-4edd-b4f0-7995e0e29050",
   "metadata": {},
   "source": [
    "LOOPS"
   ]
  },
  {
   "cell_type": "code",
   "execution_count": 54,
   "id": "517da1f8-7f73-4216-bced-31f6aa841b5b",
   "metadata": {},
   "outputs": [
    {
     "name": "stdout",
     "output_type": "stream",
     "text": [
      "range(10, 15)\n"
     ]
    }
   ],
   "source": [
    "#range (N)\n",
    "print(range(10,15));"
   ]
  },
  {
   "cell_type": "code",
   "execution_count": 65,
   "id": "e740f2f4-5a27-489e-a584-24c9f0d2721e",
   "metadata": {},
   "outputs": [
    {
     "name": "stdout",
     "output_type": "stream",
     "text": [
      "1982\n",
      "1980\n",
      "1973\n"
     ]
    }
   ],
   "source": [
    "#for loop example\n",
    "dates=[1982,1980,1973];\n",
    "N=len(dates);\n",
    "for i in range(N):\n",
    "    print(dates[i])\n"
   ]
  },
  {
   "cell_type": "markdown",
   "id": "d9946dc5-7ede-496e-86a0-35c92be8595b",
   "metadata": {},
   "source": [
    "WHILE LOOP"
   ]
  },
  {
   "cell_type": "code",
   "execution_count": 69,
   "id": "ddce6a5f-7a34-4048-a616-cc7fdc39afa0",
   "metadata": {},
   "outputs": [
    {
     "name": "stdout",
     "output_type": "stream",
     "text": [
      "1982\n",
      "1980\n",
      "1973\n"
     ]
    }
   ],
   "source": [
    "#while loop example\n",
    "i=0;\n",
    "year = len(dates);\n",
    "while (i<year):\n",
    "    print(dates[i]);\n",
    "    i=i+1;\n",
    "    "
   ]
  },
  {
   "cell_type": "markdown",
   "id": "6e939a65-6a7a-45c2-9f30-db409b035d34",
   "metadata": {},
   "source": [
    "FUNCTIONS"
   ]
  },
  {
   "cell_type": "raw",
   "id": "83f53a22-9136-4b7f-8390-d2fb92f4481b",
   "metadata": {},
   "source": [
    "#defining a function\n",
    "def name():\n",
    "    body\n",
    "    return"
   ]
  },
  {
   "cell_type": "code",
   "execution_count": 74,
   "id": "b24c5b8c-a55b-40a6-8a22-9723d31b947e",
   "metadata": {},
   "outputs": [],
   "source": [
    "#Example\n",
    "def square(a):\n",
    "    #local variabl b\n",
    "    b=1;\n",
    "    c=(a*a)+b;\n",
    "    print(a,\"if you square +1\",c);\n",
    "    return (c);\n",
    "    \n",
    "    "
   ]
  },
  {
   "cell_type": "code",
   "execution_count": 75,
   "id": "76499e00-55b3-4e7d-bd2f-8cc2822a3cac",
   "metadata": {},
   "outputs": [
    {
     "name": "stdout",
     "output_type": "stream",
     "text": [
      "2 if you square +1 5\n"
     ]
    },
    {
     "data": {
      "text/plain": [
       "5"
      ]
     },
     "execution_count": 75,
     "metadata": {},
     "output_type": "execute_result"
    }
   ],
   "source": [
    "square(2) #calling the function"
   ]
  },
  {
   "cell_type": "markdown",
   "id": "4fe8f7de-25dc-4ed3-a79a-a81691c26642",
   "metadata": {},
   "source": [
    "GLOBAL VARIABLES"
   ]
  },
  {
   "cell_type": "code",
   "execution_count": 79,
   "id": "2f63f2e0-a5c5-41a8-98ed-aa65c11631b0",
   "metadata": {},
   "outputs": [
    {
     "name": "stdout",
     "output_type": "stream",
     "text": [
      "Micheal Jackson is an artist\n"
     ]
    }
   ],
   "source": [
    "#Eample of a global variable in @ outside a function\n",
    "artist=\"Micheal Jackson\";\n",
    "def printer(artist):\n",
    "    global interval_var #internal variable\n",
    "    internal_var =\"Whithney Houston\";\n",
    "    print(artist,\"is an artist\");\n",
    "printer(artist); #calling the function"
   ]
  },
  {
   "cell_type": "markdown",
   "id": "1875fdba-be8e-4101-a917-bc0473aab7a3",
   "metadata": {},
   "source": [
    "COLLECTION AND FUNCTIONS"
   ]
  },
  {
   "cell_type": "code",
   "execution_count": 86,
   "id": "e0114b5f-7e29-4d9e-a533-1757ecb06801",
   "metadata": {},
   "outputs": [],
   "source": [
    "#Example\n",
    "def printall(*args):\n",
    "    print(\"No of argument:\",len(args))\n",
    "    for argument in args:\n",
    "        print(argument)\n"
   ]
  },
  {
   "cell_type": "code",
   "execution_count": 87,
   "id": "762799a1-37bf-4adc-98d2-c3c319ff4cff",
   "metadata": {},
   "outputs": [
    {
     "name": "stdout",
     "output_type": "stream",
     "text": [
      "No of argument: 3\n",
      "forefeather\n",
      "Adonis\n",
      "Bone\n"
     ]
    }
   ],
   "source": [
    "printall('forefeather','Adonis','Bone') #calling the function"
   ]
  },
  {
   "cell_type": "markdown",
   "id": "5fba48fe-8776-4f53-8239-9f3101967858",
   "metadata": {},
   "source": [
    "OBJECT AND CLASS"
   ]
  },
  {
   "cell_type": "code",
   "execution_count": 92,
   "id": "e3c09e4f-38cb-4310-b36b-7be65f32a813",
   "metadata": {},
   "outputs": [
    {
     "data": {
      "image/png": "[encoded data removed]",
      "text/plain": [
       "<Figure size 640x480 with 1 Axes>"
      ]
     },
     "metadata": {},
     "output_type": "display_data"
    },
    {
     "data": {
      "image/png": "[encoded data removed]",
      "text/plain": [
       "<Figure size 640x480 with 1 Axes>"
      ]
     },
     "metadata": {},
     "output_type": "display_data"
    }
   ],
   "source": [
    "#EXAMPLE: creating an object the displays a circular shape.\n",
    "import matplotlib.pyplot as plt\n",
    "\n",
    "class Circle(object):\n",
    "    # CONSTRUCTOR USED TO INITIALIZE THE OBJECT\n",
    "    def __init__(self, radius, color):\n",
    "        self.radius = radius  # SELF: CONTAINS ALL THE ATTRIBUTES IN THE SET\n",
    "        self.color = color\n",
    "\n",
    "    # METHOD TO ADD RADIUS\n",
    "    def add_radius(self, r):\n",
    "        self.radius += r\n",
    "        return self.radius\n",
    "\n",
    "    # METHOD TO DRAW CIRCLE\n",
    "    def draw_circle(self):\n",
    "        circle = plt.Circle((0, 0), self.radius, color=self.color)\n",
    "        plt.gca().add_patch(circle)\n",
    "        plt.axis('scaled')\n",
    "        plt.show()\n",
    "\n",
    "# Example Usage:\n",
    "# Create a Circle object\n",
    "my_circle = Circle(5, 'blue')\n",
    "\n",
    "# Draw the circle\n",
    "my_circle.draw_circle()\n",
    "\n",
    "# Add radius\n",
    "my_circle.add_radius(3)\n",
    "\n",
    "# Draw the circle again with updated radius\n",
    "my_circle.draw_circle()\n"
   ]
  },
  {
   "cell_type": "code",
   "execution_count": null,
   "id": "42d3b861-b655-4eb0-ad16-d17593ae3dd5",
   "metadata": {},
   "outputs": [],
   "source": []
  }
 ],
 "metadata": {
  "kernelspec": {
   "display_name": "Python 3 (ipykernel)",
   "language": "python",
   "name": "python3"
  },
  "language_info": {
   "codemirror_mode": {
    "name": "ipython",
    "version": 3
   },
   "file_extension": ".py",
   "mimetype": "text/x-python",
   "name": "python",
   "nbconvert_exporter": "python",
   "pygments_lexer": "ipython3",
   "version": "3.10.13"
  }
 },
 "nbformat": 4,
 "nbformat_minor": 5
}
