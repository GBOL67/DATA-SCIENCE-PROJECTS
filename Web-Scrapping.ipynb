{
 "cells": [
  {
   "cell_type": "markdown",
   "id": "7d5537a7-fce0-4e3d-b19e-8748f50ba143",
   "metadata": {},
   "source": [
    "## <strong> REQUEST </strong>"
   ]
  },
  {
   "cell_type": "markdown",
   "id": "2764d6e2-084c-4f7d-b1a6-af5d563156bb",
   "metadata": {},
   "source": [
    "Get method is used to retrieve infromation from the specific URL."
   ]
  },
  {
   "cell_type": "markdown",
   "id": "cfcdea25-d097-4c5f-b705-e939a5151009",
   "metadata": {},
   "source": [
    "The url contains Premier-League football stats."
   ]
  },
  {
   "cell_type": "code",
   "execution_count": 1,
   "id": "73b2701b-12e7-46e4-a79f-65d25647a23a",
   "metadata": {},
   "outputs": [],
   "source": [
    "import requests\n",
    "from bs4 import BeautifulSoup\n",
    "url = 'https://fbref.com/en/comps/9/Premier-League-Stats'\n",
    "r = requests.get(url) "
   ]
  },
  {
   "cell_type": "markdown",
   "id": "971105f0-b03d-4390-a7f3-1c9e5f391dd3",
   "metadata": {},
   "source": [
    "### ATTRIBUTES"
   ]
  },
  {
   "cell_type": "code",
   "execution_count": 2,
   "id": "92c08843-7880-44d2-94a0-37434bd99dc5",
   "metadata": {},
   "outputs": [
    {
     "name": "stdout",
     "output_type": "stream",
     "text": [
      "200\n"
     ]
    }
   ],
   "source": [
    "print(r.status_code) #reponse status code. "
   ]
  },
  {
   "cell_type": "code",
   "execution_count": 3,
   "id": "60c39ead-ad31-4926-9a10-bfd673b89fb9",
   "metadata": {},
   "outputs": [
    {
     "name": "stdout",
     "output_type": "stream",
     "text": [
      "{'Date': 'Fri, 29 Mar 2024 17:45:50 GMT', 'Content-Type': 'text/html; charset=UTF-8', 'Transfer-Encoding': 'chunked', 'Connection': 'keep-alive', 'sr-miss-memd-key': '/en/comps/9/Premier-League-Stats', 'x-frame-options': 'SAMEORIGIN', 'strict-transport-security': 'max-age=2592000; includeSubDomains', 'vary': 'Accept-Encoding', 'x-content-type-options': 'nosniff', 'referrer-policy': 'no-referrer-when-downgrade', 'Last-Modified': 'Fri, 29 Mar 2024 17:44:43 GMT', 'CF-Cache-Status': 'HIT', 'Age': '23', 'Expires': 'Fri, 29 Mar 2024 21:45:50 GMT', 'Cache-Control': 'public, max-age=14400', 'Set-Cookie': '__cf_bm=lzmDgUuErfdPjGIGsYGyKrdo0EDakVV5eoNRBtDMaYE-1711734350-1.0.1.1-hbLxk0mRQV7tYAYNc2U1uLwTierSsN7r3fMGnv3PViijLkqxyq8k25wKN5Scjb9W0JbQ6NkboBoA7O5t3QPMEg; path=/; expires=Fri, 29-Mar-24 18:15:50 GMT; domain=.fbref.com; HttpOnly; Secure; SameSite=None', 'Server': 'cloudflare', 'CF-RAY': '86c1ad08ae9da992-LCA', 'Content-Encoding': 'gzip'}\n"
     ]
    }
   ],
   "source": [
    "print(r.headers) #Dictionary containing the the HTTP headers of the response"
   ]
  },
  {
   "cell_type": "code",
   "execution_count": 4,
   "id": "8de5402b-b7e6-4e11-85da-a44d0f909168",
   "metadata": {},
   "outputs": [],
   "source": [
    "text= r.text #The content of the response in plain text format"
   ]
  },
  {
   "cell_type": "code",
   "execution_count": 5,
   "id": "492ff1d6-0de3-4bcb-9104-c943acf17ec0",
   "metadata": {},
   "outputs": [],
   "source": [
    "content=r.content # The content of the reponse in bytes"
   ]
  },
  {
   "cell_type": "markdown",
   "id": "d9055911-a10f-4422-83a4-6f9750d77006",
   "metadata": {},
   "source": [
    "### <strong>BEAUTIFUL SOUP</strong>"
   ]
  },
  {
   "cell_type": "code",
   "execution_count": 6,
   "id": "fef4be43-e7d2-46bf-9f92-d456ed8b9a2b",
   "metadata": {},
   "outputs": [],
   "source": [
    "soup = BeautifulSoup(r.text,'html.parser')"
   ]
  },
  {
   "cell_type": "markdown",
   "id": "b82cbd3e-8941-41e3-9290-c4e8f3c9f368",
   "metadata": {},
   "source": [
    "### METHODS"
   ]
  },
  {
   "cell_type": "markdown",
   "id": "a9c17232-b656-42ba-81eb-bb8d008ad7e3",
   "metadata": {},
   "source": [
    "Accessing the Premier League Table."
   ]
  },
  {
   "cell_type": "code",
   "execution_count": 7,
   "id": "16c886e0-a8a3-4ad1-987c-172439fdf3f7",
   "metadata": {},
   "outputs": [],
   "source": [
    "tbody =soup.find('tbody') #body of the table contains of a the rows in the table\n",
    "trow =soup.find_all('tr') #contains a list of all the row in the table  \n",
    "tr = soup.find_all('tbody')[0].find_all('tr')[0]  #Accessing the first tbody tag and then the first tr tag. (the first row of the premier league table)\n"
   ]
  },
  {
   "cell_type": "code",
   "execution_count": 8,
   "id": "50bc09c3-dbde-450f-aa06-4a4e254a1194",
   "metadata": {},
   "outputs": [
    {
     "name": "stdout",
     "output_type": "stream",
     "text": [
      "{'Rk': [], 'Squad': [], 'MP': [], 'W': [], 'D': [], 'L': [], 'GF': [], 'GA': [], 'GD': [], 'Pts': [], 'Pts/MP': [], 'xG': [], 'xGA': [], 'xGD': [], 'xGD/90': [], 'Last 5': [], 'Attendance': [], 'Top Team Scorer': [], 'Goalkeeper': [], 'Notes': []}\n"
     ]
    }
   ],
   "source": [
    "t_head = soup.find('body').find_all('thead')[0].find_all('tr')[0].find_all('th') #accessing the head of the table\n",
    "head_list=[]\n",
    "for i in range(len(t_head)):\n",
    " head_list.append(t_head[i].text)\n",
    "    \n",
    "dictionary = {key: [] for key in head_list}\n",
    "print(dictionary)"
   ]
  },
  {
   "cell_type": "code",
   "execution_count": 9,
   "id": "3229129b-5bcf-4885-8c6d-40dd83b9ca96",
   "metadata": {},
   "outputs": [
    {
     "name": "stdout",
     "output_type": "stream",
     "text": [
      "[' Liverpool', '28', '19', '7', '2', '65', '26', '+39', '64', '2.29', '62.6', '34.5', '+28.1', '+1.00', 'W W W W D', '54,519', 'Mohamed Salah - 15', 'Alisson', '']\n"
     ]
    }
   ],
   "source": [
    "trow_data = soup.find_all('tbody')[0].find_all('tr')[1].find_all('td') #accessing the body of the table\n",
    "row_list=[]\n",
    "for rows in range(len(trow_data)):#itreating through the rows\n",
    "  row_list.append(trow_data[rows].text)\n",
    "print(row_list)"
   ]
  },
  {
   "cell_type": "code",
   "execution_count": 10,
   "id": "13d43aca-f94f-43e4-9b81-05403f1e9a35",
   "metadata": {},
   "outputs": [
    {
     "name": "stdout",
     "output_type": "stream",
     "text": [
      " Arsenal\n"
     ]
    }
   ],
   "source": [
    "row_data = soup.find_all('tbody')[0].find_all('tr')[0].find_all('td')[0]\n",
    "print(row_data.text)"
   ]
  },
  {
   "cell_type": "code",
   "execution_count": 11,
   "id": "b27b10c9-fbfd-40f4-96b3-51ccb3857206",
   "metadata": {},
   "outputs": [
    {
     "name": "stdout",
     "output_type": "stream",
     "text": [
      "{'Squad': [' Arsenal', ' Liverpool', ' Manchester City', ' Aston Villa', ' Tottenham', ' Manchester Utd', ' West Ham', ' Brighton', ' Wolves', ' Newcastle Utd', ' Chelsea', ' Fulham', ' Bournemouth', ' Crystal Palace', ' Brentford', ' Everton', ' Luton Town', \" Nott'ham Forest\", ' Burnley', ' Sheffield Utd'], 'MP': ['28', '28', '28', '29', '28', '28', '29', '28', '28', '28', '27', '29', '28', '28', '29', '28', '29', '29', '29', '28'], 'W': ['20', '19', '19', '17', '16', '15', '12', '11', '12', '12', '11', '11', '9', '7', '7', '8', '5', '6', '4', '3'], 'D': ['4', '7', '6', '5', '5', '2', '8', '9', '5', '4', '6', '5', '8', '8', '5', '7', '7', '7', '5', '5'], 'L': ['4', '2', '3', '7', '7', '11', '9', '8', '11', '12', '10', '13', '11', '13', '17', '13', '17', '16', '20', '20'], 'GF': ['70', '65', '63', '60', '59', '39', '46', '50', '42', '59', '47', '43', '41', '33', '41', '29', '42', '35', '29', '24'], 'GA': ['24', '26', '28', '42', '42', '39', '50', '44', '44', '48', '45', '44', '52', '48', '54', '39', '60', '51', '63', '74'], 'GD': ['+46', '+39', '+35', '+18', '+17', '0', '-4', '+6', '-2', '+11', '+2', '-1', '-11', '-15', '-13', '-10', '-18', '-16', '-34', '-50'], 'Pts': ['64', '64', '63', '56', '53', '47', '44', '42', '41', '40', '39', '38', '35', '29', '26', '25', '22', '21', '17', '14'], 'Pts/MP': ['2.29', '2.29', '2.25', '1.93', '1.89', '1.68', '1.52', '1.50', '1.46', '1.43', '1.44', '1.31', '1.25', '1.04', '0.90', '0.89', '0.76', '0.72', '0.59', '0.50'], 'xG': ['56.6', '62.6', '56.6', '51.7', '49.4', '43.3', '41.0', '45.5', '37.6', '51.1', '50.1', '39.2', '42.6', '33.1', '45.0', '42.3', '35.3', '36.5', '28.4', '25.2'], 'xGA': ['19.4', '34.5', '27.6', '41.8', '46.4', '47.4', '51.0', '38.7', '47.9', '49.2', '40.2', '49.8', '44.8', '39.9', '45.2', '39.8', '59.8', '41.9', '50.5', '57.1'], 'xGD': ['+37.2', '+28.1', '+29.0', '+9.8', '+2.9', '-4.2', '-10.0', '+6.8', '-10.3', '+2.0', '+9.8', '-10.6', '-2.3', '-6.9', '-0.2', '+2.6', '-24.4', '-5.4', '-22.1', '-31.9'], 'xGD/90': ['+1.33', '+1.00', '+1.04', '+0.34', '+0.10', '-0.15', '-0.34', '+0.24', '-0.37', '+0.07', '+0.36', '-0.37', '-0.08', '-0.24', '-0.01', '+0.09', '-0.84', '-0.19', '-0.76', '-1.14'], 'Last 5': ['W W W W W', 'W W W W D', 'D W W W D', 'W W W L D', 'W L W W L', 'W W L L W', 'L W W D D', 'L W D L W', 'L W W L W', 'W D L W L', 'L W D D W', 'L W W L W', 'D L W D W', 'L D W L D', 'L L D L L', 'L D D L L', 'L L D L D', 'W L L L D', 'L L L D W', 'W L L L D'], 'Attendance': ['60,213', '54,519', '52,996', '41,698', '61,555', '73,523', '62,594', '33,003', '31,280', '52,121', '39,556', '24,290', '11,081', '24,861', '17,077', '39,063', '11,065', '29,344', '21,159', '30,355'], 'Top Team Scorer': ['Bukayo Saka - 13', 'Mohamed Salah - 15', 'Erling Haaland - 18', 'Ollie Watkins - 16', 'Son Heung-min - 14', 'Marcus Rashford, Scott McTominay... - 7', 'Jarrod Bowen - 14', 'João Pedro - 8', 'Hwang Hee-chan - 10', 'Alexander Isak - 12', 'Cole Palmer - 11', 'Rodrigo Muniz - 7', 'Dominic Solanke - 15', 'Odsonne Édouard, Eberechi Eze... - 6', 'Yoane Wissa, Bryan Mbeumo - 7', 'Abdoulaye Doucouré - 6', 'Elijah Adebayo - 9', 'Chris Wood - 9', 'Lyle Foster, Zeki Amdouni... - 4', 'Oliver McBurnie, Cameron Archer - 4'], 'Goalkeeper': ['David Raya', 'Alisson', 'Ederson', 'Emiliano Martínez', 'Guglielmo Vicario', 'André Onana', 'Alphonse Areola', 'Jason Steele', 'José Sá', 'Nick Pope', 'Robert Sánchez', 'Bernd Leno', 'Neto', 'Sam Johnstone', 'Mark Flekken', 'Jordan Pickford', 'Thomas Kaminski', 'Matt Turner', 'James Trafford', 'Wes Foderingham'], 'Notes': ['', '', '', '', '', '', '', '', '', '', '', '', '', '', '', '6-point deduction 1', '', '4-point deduction 2', '', '']}\n"
     ]
    }
   ],
   "source": [
    "for columns in range(len(soup.find_all('tbody')[0].find_all('tr'))):#list of rows\n",
    "    trow_data = soup.find_all('tbody')[0].find_all('tr')[columns].find_all('td') #columns\n",
    "    row_list=[]\n",
    "    for column in range(len(trow_data)):\n",
    "      row_list.append(trow_data[column].text)\n",
    "    for b in range(19):#columns\n",
    "     dictionary[head_list[b+1]].append(row_list[b])\n",
    "del dictionary['Rk']\n",
    "print(dictionary)\n",
    "     \n",
    "        "
   ]
  },
  {
   "cell_type": "code",
   "execution_count": 12,
   "id": "dda2b46c-2f5b-4ac1-9248-a198d1516f2d",
   "metadata": {},
   "outputs": [],
   "source": [
    "import pandas as pd\n",
    "\n",
    "# Creating a DataFrame from the dictionary\n",
    "df = pd.DataFrame(dictionary)"
   ]
  },
  {
   "cell_type": "code",
   "execution_count": 13,
   "id": "6c077489-9d07-476f-86d3-d2bbfeac5ab2",
   "metadata": {
    "scrolled": true
   },
   "outputs": [
    {
     "data": {
      "text/html": [
       "<div>\n",
       "<style scoped>\n",
       "    .dataframe tbody tr th:only-of-type {\n",
       "        vertical-align: middle;\n",
       "    }\n",
       "\n",
       "    .dataframe tbody tr th {\n",
       "        vertical-align: top;\n",
       "    }\n",
       "\n",
       "    .dataframe thead th {\n",
       "        text-align: right;\n",
       "    }\n",
       "</style>\n",
       "<table border=\"1\" class=\"dataframe\">\n",
       "  <thead>\n",
       "    <tr style=\"text-align: right;\">\n",
       "      <th></th>\n",
       "      <th>Squad</th>\n",
       "      <th>MP</th>\n",
       "      <th>W</th>\n",
       "      <th>D</th>\n",
       "      <th>L</th>\n",
       "      <th>GF</th>\n",
       "      <th>GA</th>\n",
       "      <th>GD</th>\n",
       "      <th>Pts</th>\n",
       "      <th>Pts/MP</th>\n",
       "      <th>xG</th>\n",
       "      <th>xGA</th>\n",
       "      <th>xGD</th>\n",
       "      <th>xGD/90</th>\n",
       "      <th>Last 5</th>\n",
       "      <th>Attendance</th>\n",
       "      <th>Top Team Scorer</th>\n",
       "      <th>Goalkeeper</th>\n",
       "      <th>Notes</th>\n",
       "    </tr>\n",
       "  </thead>\n",
       "  <tbody>\n",
       "    <tr>\n",
       "      <th>0</th>\n",
       "      <td>Arsenal</td>\n",
       "      <td>28</td>\n",
       "      <td>20</td>\n",
       "      <td>4</td>\n",
       "      <td>4</td>\n",
       "      <td>70</td>\n",
       "      <td>24</td>\n",
       "      <td>+46</td>\n",
       "      <td>64</td>\n",
       "      <td>2.29</td>\n",
       "      <td>56.6</td>\n",
       "      <td>19.4</td>\n",
       "      <td>+37.2</td>\n",
       "      <td>+1.33</td>\n",
       "      <td>W W W W W</td>\n",
       "      <td>60,213</td>\n",
       "      <td>Bukayo Saka - 13</td>\n",
       "      <td>David Raya</td>\n",
       "      <td></td>\n",
       "    </tr>\n",
       "    <tr>\n",
       "      <th>1</th>\n",
       "      <td>Liverpool</td>\n",
       "      <td>28</td>\n",
       "      <td>19</td>\n",
       "      <td>7</td>\n",
       "      <td>2</td>\n",
       "      <td>65</td>\n",
       "      <td>26</td>\n",
       "      <td>+39</td>\n",
       "      <td>64</td>\n",
       "      <td>2.29</td>\n",
       "      <td>62.6</td>\n",
       "      <td>34.5</td>\n",
       "      <td>+28.1</td>\n",
       "      <td>+1.00</td>\n",
       "      <td>W W W W D</td>\n",
       "      <td>54,519</td>\n",
       "      <td>Mohamed Salah - 15</td>\n",
       "      <td>Alisson</td>\n",
       "      <td></td>\n",
       "    </tr>\n",
       "    <tr>\n",
       "      <th>2</th>\n",
       "      <td>Manchester City</td>\n",
       "      <td>28</td>\n",
       "      <td>19</td>\n",
       "      <td>6</td>\n",
       "      <td>3</td>\n",
       "      <td>63</td>\n",
       "      <td>28</td>\n",
       "      <td>+35</td>\n",
       "      <td>63</td>\n",
       "      <td>2.25</td>\n",
       "      <td>56.6</td>\n",
       "      <td>27.6</td>\n",
       "      <td>+29.0</td>\n",
       "      <td>+1.04</td>\n",
       "      <td>D W W W D</td>\n",
       "      <td>52,996</td>\n",
       "      <td>Erling Haaland - 18</td>\n",
       "      <td>Ederson</td>\n",
       "      <td></td>\n",
       "    </tr>\n",
       "    <tr>\n",
       "      <th>3</th>\n",
       "      <td>Aston Villa</td>\n",
       "      <td>29</td>\n",
       "      <td>17</td>\n",
       "      <td>5</td>\n",
       "      <td>7</td>\n",
       "      <td>60</td>\n",
       "      <td>42</td>\n",
       "      <td>+18</td>\n",
       "      <td>56</td>\n",
       "      <td>1.93</td>\n",
       "      <td>51.7</td>\n",
       "      <td>41.8</td>\n",
       "      <td>+9.8</td>\n",
       "      <td>+0.34</td>\n",
       "      <td>W W W L D</td>\n",
       "      <td>41,698</td>\n",
       "      <td>Ollie Watkins - 16</td>\n",
       "      <td>Emiliano Martínez</td>\n",
       "      <td></td>\n",
       "    </tr>\n",
       "    <tr>\n",
       "      <th>4</th>\n",
       "      <td>Tottenham</td>\n",
       "      <td>28</td>\n",
       "      <td>16</td>\n",
       "      <td>5</td>\n",
       "      <td>7</td>\n",
       "      <td>59</td>\n",
       "      <td>42</td>\n",
       "      <td>+17</td>\n",
       "      <td>53</td>\n",
       "      <td>1.89</td>\n",
       "      <td>49.4</td>\n",
       "      <td>46.4</td>\n",
       "      <td>+2.9</td>\n",
       "      <td>+0.10</td>\n",
       "      <td>W L W W L</td>\n",
       "      <td>61,555</td>\n",
       "      <td>Son Heung-min - 14</td>\n",
       "      <td>Guglielmo Vicario</td>\n",
       "      <td></td>\n",
       "    </tr>\n",
       "  </tbody>\n",
       "</table>\n",
       "</div>"
      ],
      "text/plain": [
       "              Squad  MP   W  D  L  GF  GA   GD Pts Pts/MP    xG   xGA    xGD  \\\n",
       "0           Arsenal  28  20  4  4  70  24  +46  64   2.29  56.6  19.4  +37.2   \n",
       "1         Liverpool  28  19  7  2  65  26  +39  64   2.29  62.6  34.5  +28.1   \n",
       "2   Manchester City  28  19  6  3  63  28  +35  63   2.25  56.6  27.6  +29.0   \n",
       "3       Aston Villa  29  17  5  7  60  42  +18  56   1.93  51.7  41.8   +9.8   \n",
       "4         Tottenham  28  16  5  7  59  42  +17  53   1.89  49.4  46.4   +2.9   \n",
       "\n",
       "  xGD/90     Last 5 Attendance      Top Team Scorer         Goalkeeper Notes  \n",
       "0  +1.33  W W W W W     60,213     Bukayo Saka - 13         David Raya        \n",
       "1  +1.00  W W W W D     54,519   Mohamed Salah - 15            Alisson        \n",
       "2  +1.04  D W W W D     52,996  Erling Haaland - 18            Ederson        \n",
       "3  +0.34  W W W L D     41,698   Ollie Watkins - 16  Emiliano Martínez        \n",
       "4  +0.10  W L W W L     61,555   Son Heung-min - 14  Guglielmo Vicario        "
      ]
     },
     "execution_count": 13,
     "metadata": {},
     "output_type": "execute_result"
    }
   ],
   "source": [
    "df.head()"
   ]
  },
  {
   "cell_type": "code",
   "execution_count": 14,
   "id": "38f62855-dd37-407c-8ba8-26cb0ac0a165",
   "metadata": {},
   "outputs": [
    {
     "name": "stdout",
     "output_type": "stream",
     "text": [
      "[' Arsenal' '28' '20' '4' '4' '70' '24' '+46' '64' '2.29' '56.6' '19.4'\n",
      " '+37.2' '+1.33' 'W W W W W' '60,213' 'Bukayo Saka - 13' 'David Raya' '']\n"
     ]
    }
   ],
   "source": [
    "print(df.values[0])"
   ]
  },
  {
   "cell_type": "code",
   "execution_count": 15,
   "id": "4bda5e32-23e3-4fe0-a748-309c7c768876",
   "metadata": {},
   "outputs": [
    {
     "name": "stdout",
     "output_type": "stream",
     "text": [
      "0                            Bukayo Saka - 13\n",
      "1                          Mohamed Salah - 15\n",
      "2                         Erling Haaland - 18\n",
      "3                          Ollie Watkins - 16\n",
      "4                          Son Heung-min - 14\n",
      "5     Marcus Rashford, Scott McTominay... - 7\n",
      "6                           Jarrod Bowen - 14\n",
      "7                              João Pedro - 8\n",
      "8                         Hwang Hee-chan - 10\n",
      "9                         Alexander Isak - 12\n",
      "10                           Cole Palmer - 11\n",
      "11                          Rodrigo Muniz - 7\n",
      "12                       Dominic Solanke - 15\n",
      "13       Odsonne Édouard, Eberechi Eze... - 6\n",
      "14              Yoane Wissa, Bryan Mbeumo - 7\n",
      "15                     Abdoulaye Doucouré - 6\n",
      "16                         Elijah Adebayo - 9\n",
      "17                             Chris Wood - 9\n",
      "18           Lyle Foster, Zeki Amdouni... - 4\n",
      "19        Oliver McBurnie, Cameron Archer - 4\n",
      "Name: Top Team Scorer, dtype: object\n"
     ]
    }
   ],
   "source": [
    "print(df['Top Team Scorer'])"
   ]
  },
  {
   "cell_type": "code",
   "execution_count": 16,
   "id": "8ebc7bd4-dbfb-48f6-8c46-66fc4edac85c",
   "metadata": {},
   "outputs": [
    {
     "name": "stdout",
     "output_type": "stream",
     "text": [
      "              Squad  MP   W  D   L  GF  GA   GD Pts Pts/MP    xG   xGA    xGD  \\\n",
      "5    Manchester Utd  28  15  2  11  39  39    0  47   1.68  43.3  47.4   -4.2   \n",
      "0           Arsenal  28  20  4   4  70  24  +46  64   2.29  56.6  19.4  +37.2   \n",
      "9     Newcastle Utd  28  12  4  12  59  48  +11  40   1.43  51.1  49.2   +2.0   \n",
      "3       Aston Villa  29  17  5   7  60  42  +18  56   1.93  51.7  41.8   +9.8   \n",
      "14        Brentford  29   7  5  17  41  54  -13  26   0.90  45.0  45.2   -0.2   \n",
      "\n",
      "   xGD/90     Last 5 Attendance                          Top Team Scorer  \\\n",
      "5   -0.15  W W L L W     73,523  Marcus Rashford, Scott McTominay... - 7   \n",
      "0   +1.33  W W W W W     60,213                         Bukayo Saka - 13   \n",
      "9   +0.07  W D L W L     52,121                      Alexander Isak - 12   \n",
      "3   +0.34  W W W L D     41,698                       Ollie Watkins - 16   \n",
      "14  -0.01  L L D L L     17,077            Yoane Wissa, Bryan Mbeumo - 7   \n",
      "\n",
      "           Goalkeeper Notes  \n",
      "5         André Onana        \n",
      "0          David Raya        \n",
      "9           Nick Pope        \n",
      "3   Emiliano Martínez        \n",
      "14       Mark Flekken        \n"
     ]
    }
   ],
   "source": [
    "print(df.sort_values('D').head())"
   ]
  }
 ],
 "metadata": {
  "kernelspec": {
   "display_name": "Python 3 (ipykernel)",
   "language": "python",
   "name": "python3"
  },
  "language_info": {
   "codemirror_mode": {
    "name": "ipython",
    "version": 3
   },
   "file_extension": ".py",
   "mimetype": "text/x-python",
   "name": "python",
   "nbconvert_exporter": "python",
   "pygments_lexer": "ipython3",
   "version": "3.10.13"
  }
 },
 "nbformat": 4,
 "nbformat_minor": 5
}
